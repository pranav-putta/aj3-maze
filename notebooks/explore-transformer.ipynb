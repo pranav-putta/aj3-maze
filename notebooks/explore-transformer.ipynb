{
 "cells": [
  {
   "cell_type": "code",
   "execution_count": 47,
   "metadata": {},
   "outputs": [
    {
     "data": {
      "text/plain": [
       "<torch.autograd.grad_mode.set_grad_enabled at 0x175244c10>"
      ]
     },
     "execution_count": 47,
     "metadata": {},
     "output_type": "execute_result"
    }
   ],
   "source": [
    "import circuitsvis as cv\n",
    "import transformer_lens\n",
    "import transformer_lens.utils as utils\n",
    "import torch\n",
    "from transformer_lens.hook_points import (\n",
    "    HookedRootModule,\n",
    "    HookPoint,\n",
    ")  # Hooking utilities\n",
    "import os\n",
    "from transformer_lens import FactoredMatrix, ActivationCache\n",
    "from mazelens.nets.modules.hooked_gpt import HookedGPT\n",
    "from mazelens.nets.modules.hooked_gpt_config import HookedGPTConfig\n",
    "from mazelens.configs.root import WBLoggerConfig\n",
    "from mazelens.envs import *\n",
    "from mazelens.util.util import *\n",
    "from mazelens.trainers import *\n",
    "from mazelens.nets.impala import ImpalaPolicyNet\n",
    "from mazelens.nets.state_encoders.hooked_dt import HookedTransformerStateEncoder\n",
    "from mazelens.envs.aj3_maze import AJ3MazeEnv\n",
    "import mazelens.util.util as mutil\n",
    "from mazelens.util.structs import ExperienceDict\n",
    "from PIL import Image, ImageOps, ImageFont, ImageDraw\n",
    "from torch.nn import functional as F\n",
    "from einops import rearrange\n",
    "from torch.distributions import Categorical\n",
    "import hydra\n",
    "from IPython.display import display, HTML\n",
    "import IPython\n",
    "\n",
    "import pathlib\n",
    "import circuitsvis as cv\n",
    "\n",
    "import warnings\n",
    "warnings.filterwarnings(\"ignore\")\n",
    "\n",
    "torch.set_grad_enabled(False)"
   ]
  },
  {
   "cell_type": "code",
   "execution_count": 48,
   "metadata": {},
   "outputs": [],
   "source": [
    "# Variables\n",
    "model_path = '/Users/pranavputta/Downloads/epoch_6000_student.pt'\n",
    "experiment = '+experiment=aj3/ad/explore/ppo_11x11'"
   ]
  },
  {
   "cell_type": "markdown",
   "metadata": {
    "jp-MarkdownHeadingCollapsed": true
   },
   "source": [
    "## Utility Functions"
   ]
  },
  {
   "cell_type": "code",
   "execution_count": 49,
   "metadata": {},
   "outputs": [],
   "source": [
    "action_map = {0: \"RIGHT\", 1: \"LEFT\", 2: \"DOWN\", 3: \"UP\"}\n",
    "\n",
    "def grid_to_frame(f, s, v, su, a, max_width=500):\n",
    "    img = maze_to_rgb(f)\n",
    "    img_height, img_width = img.shape[:2]\n",
    "    ratio = max_width // img_width\n",
    "    img_height, img_width = img_height * ratio, img_width * ratio\n",
    "    img = Image.fromarray(img).resize((img_height, img_width), resample=Image.NEAREST)\n",
    "\n",
    "    # Add padding to the image\n",
    "    font_size = 32\n",
    "    font = ImageFont.truetype(\"../misc/arial.ttf\", size=font_size)\n",
    "    padding = 50\n",
    "    if v and not su:\n",
    "        padding_color = (0, 0, 0)  # White color, you can change it to your desired color\n",
    "    elif v and su:\n",
    "        padding_color = (0, 255, 0)\n",
    "    else:\n",
    "        padding_color = (255, 0, 0)\n",
    "    padded_image = ImageOps.expand(img, border=padding, fill=padding_color)\n",
    "    draw = ImageDraw.Draw(padded_image)\n",
    "    text = \"Action: {}\".format(action_map[a])  # Replace \"action\" with your desired action text\n",
    "    text_width, text_height = draw.textsize(text, font=font)\n",
    "    x = (padded_image.width - text_width) // 2\n",
    "    y = padded_image.height - padding - text_height * 2\n",
    "\n",
    "    # Overlay the text on the image\n",
    "    draw.text((x, y), text, fill=(255, 255, 255), font=font)\n",
    "\n",
    "    # Overlay the agent view on the image\n",
    "    if True:\n",
    "        partial_view_rgb = maze_to_rgb(s)\n",
    "        partial_view_size = max_width // 6\n",
    "\n",
    "        partial_height, partial_width = partial_view_rgb.shape[:2]\n",
    "        ratio = partial_view_size // partial_width\n",
    "        partial_height, partial_width = ratio * partial_height, ratio * partial_width\n",
    "\n",
    "        small_map_x = padded_image.width - (partial_width // 2) - padding\n",
    "        small_map_y = padded_image.height - (partial_height // 2) - padding\n",
    "\n",
    "        p_img = Image.fromarray(partial_view_rgb).resize((partial_height, partial_width),\n",
    "                                                         resample=Image.NEAREST)\n",
    "        # Add a border around the partial view image\n",
    "        border_color = (255, 255, 255)\n",
    "        border_thickness = 5\n",
    "        p_img = ImageOps.expand(p_img, border=border_thickness, fill=border_color)\n",
    "        padded_image.paste(p_img, (small_map_x, small_map_y))\n",
    "\n",
    "    return padded_image"
   ]
  },
  {
   "cell_type": "code",
   "execution_count": 50,
   "metadata": {},
   "outputs": [],
   "source": [
    "def embed(self, inp):\n",
    "    s, a, r = inp.states, inp.actions, inp.rewards\n",
    "    assert s is not None, 'states must be provided'\n",
    "    b, t, p, q = s.shape\n",
    "\n",
    "    # embed tokens\n",
    "    s = s.long()\n",
    "    s = rearrange(s, 'b t x y -> b t (x y)')\n",
    "    s = self.tok_embd(s)\n",
    "    s = rearrange(s, 'b t (x y) d -> (b t) d x y', x=p, y=q)\n",
    "    s = self.impala(s)\n",
    "    s = rearrange(s, '(b t) d -> b t d', b=b)\n",
    "\n",
    "    tokens = {'s': s}\n",
    "    if 'a' in self.condition_on and a is not None:\n",
    "        tokens['a'] = self.action_embd(a.long())\n",
    "    if 'r' in self.condition_on and r is not None:\n",
    "        r = rearrange(r, 'b ... -> b ... 1')\n",
    "        tokens['r'] = self.reward_embd(r.float())\n",
    "\n",
    "    if t == 1:\n",
    "        # in the case of a single step, we need to modify the order of the tokens to match the order of the\n",
    "        # environment outputs.\n",
    "        rotated_cond = self.condition_on\n",
    "        if rotated_cond == 'sa':\n",
    "            rotated_cond = 'as'\n",
    "        elif rotated_cond == 'sar':\n",
    "            rotated_cond = 'ars'\n",
    "        elif rotated_cond == 'rsa':\n",
    "            rotated_cond = 'rsa'\n",
    "        keys, x = zip(*[(k, tokens[k]) for k in rotated_cond if k in tokens])\n",
    "        x = torch.cat(x, dim=1)\n",
    "    else:\n",
    "        keys, x = zip(*[(k, tokens[k]) for k in self.condition_on if k in tokens])\n",
    "        # interleave tokens into a sequence\n",
    "        x = torch.stack(x, dim=2).view(b, t * len(x), self.hidden_dim)\n",
    "    head_position = keys.index('s')\n",
    "    return x, head_position"
   ]
  },
  {
   "cell_type": "markdown",
   "metadata": {
    "jp-MarkdownHeadingCollapsed": true
   },
   "source": [
    "## Setup Config and Necessary Components"
   ]
  },
  {
   "cell_type": "code",
   "execution_count": 51,
   "metadata": {},
   "outputs": [],
   "source": [
    "from hydra import initialize, compose\n",
    "from omegaconf import OmegaConf\n",
    "\n",
    "hydra.core.global_hydra.GlobalHydra.instance().clear()\n",
    "\n",
    "with initialize(version_base=None, config_path=\"../configs/\"):\n",
    "    cfg = compose(config_name='config.yaml', overrides=[experiment])\n",
    "\n",
    "pcfg = cfg.trainer.agent.policy\n",
    "rcfg = pcfg.rnn\n",
    "ecfg = cfg.trainer.env"
   ]
  },
  {
   "cell_type": "markdown",
   "metadata": {},
   "source": [
    "### Construct Network from Config"
   ]
  },
  {
   "cell_type": "code",
   "execution_count": 6,
   "metadata": {},
   "outputs": [],
   "source": [
    "rnn = HookedTransformerStateEncoder(rcfg.n_layers, rcfg.d_model, rcfg.d_head, rcfg.n_heads,\n",
    "                                    rcfg.d_mlp, rcfg.act_fn, rcfg.n_ctx, rcfg.mode)\n",
    "policy = ImpalaPolicyNet(pcfg.in_dim, pcfg.embd_vocab_size, pcfg.embd_dim, pcfg.hidden_dim,\n",
    "               pcfg.scale, pcfg.out_dim, pcfg.condition_on, rnn)\n",
    "policy = policy.eval()"
   ]
  },
  {
   "cell_type": "markdown",
   "metadata": {},
   "source": [
    "### Load Model Weights"
   ]
  },
  {
   "cell_type": "code",
   "execution_count": 7,
   "metadata": {},
   "outputs": [
    {
     "data": {
      "text/plain": [
       "<All keys matched successfully>"
      ]
     },
     "execution_count": 7,
     "metadata": {},
     "output_type": "execute_result"
    }
   ],
   "source": [
    "state_dict = torch.load(model_path, map_location='cpu')\n",
    "policy.load_state_dict(state_dict['policy'])"
   ]
  },
  {
   "cell_type": "markdown",
   "metadata": {},
   "source": [
    "### Construct Environment"
   ]
  },
  {
   "cell_type": "code",
   "execution_count": 8,
   "metadata": {},
   "outputs": [],
   "source": [
    "env = AJ3MazeEnv(ecfg.static_env, ecfg.static_episode, ecfg.difficulty, ecfg.reward_type, cfg.seed, ecfg.visible_radius, ecfg.num_objects, ecfg.size, ecfg.max_steps)\n",
    "state, info = env.reset()"
   ]
  },
  {
   "cell_type": "markdown",
   "metadata": {},
   "source": [
    "## Start Interpreting!"
   ]
  },
  {
   "cell_type": "markdown",
   "metadata": {
    "jp-MarkdownHeadingCollapsed": true
   },
   "source": [
    "### Utility Functions"
   ]
  },
  {
   "cell_type": "code",
   "execution_count": 52,
   "metadata": {},
   "outputs": [],
   "source": [
    "def construct_episode(_policy, _env, deterministic=True, seed=None):\n",
    "    _policy.eval()\n",
    "    state, info = _env.reset(episode_seed=seed)\n",
    "    past_kv_cache = _policy.rnn.initialize_hidden(1)\n",
    "    exp = ExperienceDict(prev_dones=[True], prev_hiddens=past_kv_cache, states=torch.tensor(state[None, None]), infos=info)\n",
    "    done = False\n",
    "    episode = []\n",
    "    while not done:\n",
    "        exp.prev_dones = torch.tensor(exp.prev_dones)\n",
    "        features, action_logits, hx = _policy(exp)\n",
    "        dist = Categorical(logits=action_logits)\n",
    "        if deterministic:\n",
    "            actions = dist.mode\n",
    "        else:\n",
    "            actions = dist.sample()\n",
    "        action = actions.squeeze()\n",
    "\n",
    "        next_states, rwds, success, truncated, next_infos = _env.step(action)\n",
    "        exp.actions = action.detach().clone()\n",
    "        exp.rewards = rwds\n",
    "        exp.success = success\n",
    "        done = success or truncated\n",
    "\n",
    "        episode.append(exp)\n",
    "\n",
    "        exp = ExperienceDict(prev_dones=[done],\n",
    "                                 prev_hiddens=hx,\n",
    "                                 states=torch.tensor(next_states[None, None]),\n",
    "                                 infos=next_infos,\n",
    "                                 actions=actions,\n",
    "                                 rewards=rwds,\n",
    "                                 truncated=None, success=None)\n",
    "\n",
    "\n",
    "    return episode\n",
    "        \n",
    "def show_episode_video(_episode, save_all=True, filename='tmp'):\n",
    "    os.makedirs(f\"imgs/{filename}/\", exist_ok=True)\n",
    "\n",
    "    animation_filename = f'imgs/{filename}/animation_{filename}.gif'\n",
    "    \n",
    "    frames = [grid_to_frame(e.infos['full_view'], e.states.squeeze(), e.infos['valid'], e.success, e.actions.item()) for e in _episode]\n",
    "    frames[0].save(animation_filename, format=\"GIF\", append_images=frames,\n",
    "                   save_all=True, duration=1000, loop=0)\n",
    "\n",
    "    if save_all:\n",
    "        for i, frame in enumerate(frames):\n",
    "            frame.save(f\"imgs/{filename}/{i}.png\")\n",
    "    return animation_filename\n",
    "\n",
    "def set_seed_everywhere(seed: int):\n",
    "    torch.manual_seed(seed)\n",
    "    random.seed(seed)\n",
    "    np.random.seed(seed)\n",
    "\n",
    "def cat_episode(_episode):\n",
    "    exp = ExperienceDict(prev_dones=[], states=[], actions=[], rewards=[])\n",
    "    for frame in _episode:\n",
    "        exp.prev_dones.append(frame.prev_dones)\n",
    "        exp.states.append(frame.states)\n",
    "        exp.actions.append(frame.actions)\n",
    "        exp.rewards.append(frame.rewards)\n",
    "    exp.prev_dones = torch.tensor(exp.prev_dones)\n",
    "    exp.states = torch.cat(exp.states, dim=1)\n",
    "    exp.actions = torch.tensor(exp.actions)\n",
    "    exp.rewards = torch.tensor(exp.rewards)\n",
    "    return exp"
   ]
  },
  {
   "cell_type": "markdown",
   "metadata": {},
   "source": [
    "### Construct Episode Sequence to Hook"
   ]
  },
  {
   "cell_type": "code",
   "execution_count": 58,
   "metadata": {},
   "outputs": [
    {
     "name": "stdout",
     "output_type": "stream",
     "text": [
      "Episode of Length 6. Observations are of shape 5x5\n"
     ]
    },
    {
     "data": {
      "image/png": "[encoded data removed]",
      "text/plain": [
       "<IPython.core.display.Image object>"
      ]
     },
     "metadata": {},
     "output_type": "display_data"
    }
   ],
   "source": [
    "# Construct Episode\n",
    "seed = 7\n",
    "set_seed_everywhere(seed)\n",
    "episode = construct_episode(policy, env, deterministic=True, seed=seed)\n",
    "shape = episode[0].states.shape\n",
    "print(f\"Episode of Length {len(episode)}. Observations are of shape {shape[2]}x{shape[3]}\")\n",
    "# show as video\n",
    "gif_filename = show_episode_video(episode, filename=f\"{seed}\")\n",
    "display(IPython.display.Image(filename=gif_filename, format='png'))"
   ]
  },
  {
   "cell_type": "code",
   "execution_count": 55,
   "metadata": {},
   "outputs": [],
   "source": [
    "episode = cat_episode(episode)\n",
    "x, head_pos = embed(policy, episode)\n",
    "gpt_logits, gpt_cache = policy.rnn.gpt.run_with_cache(x)"
   ]
  },
  {
   "cell_type": "code",
   "execution_count": 56,
   "metadata": {},
   "outputs": [
    {
     "name": "stdout",
     "output_type": "stream",
     "text": [
      "Layer 1 Head Attention Patterns:\n"
     ]
    },
    {
     "data": {
      "text/html": [
       "<div id=\"circuits-vis-3bc95b14-3f56\" style=\"margin: 15px 0;\"/>\n",
       "    <script crossorigin type=\"module\">\n",
       "    import { render, AttentionPatterns } from \"https://unpkg.com/circuitsvis@1.40.0/dist/cdn/esm.js\";\n",
       "    render(\n",
       "      \"circuits-vis-3bc95b14-3f56\",\n",
       "      AttentionPatterns,\n",
       "      {\"tokens\": [\"0-RIGHT\", \"1-RIGHT\", \"2-RIGHT\", \"3-RIGHT\", \"4-LEFT\", \"5-LEFT\", \"6-DOWN\", \"7-DOWN\", \"8-RIGHT\", \"9-RIGHT\", \"10-RIGHT\", \"11-RIGHT\", \"12-RIGHT\", \"13-RIGHT\", \"14-DOWN\", \"15-DOWN\", \"16-LEFT\"], \"attention\": [[[1.0, 0.0, 0.0, 0.0, 0.0, 0.0, 0.0, 0.0, 0.0, 0.0, 0.0, 0.0, 0.0, 0.0, 0.0, 0.0, 0.0], [0.5165223479270935, 0.4834776520729065, 0.0, 0.0, 0.0, 0.0, 0.0, 0.0, 0.0, 0.0, 0.0, 0.0, 0.0, 0.0, 0.0, 0.0, 0.0], [0.4486951231956482, 0.5509872436523438, 0.00031770291388966143, 0.0, 0.0, 0.0, 0.0, 0.0, 0.0, 0.0, 0.0, 0.0, 0.0, 0.0, 0.0, 0.0, 0.0], [0.00025388793437741697, 0.0005210685194469988, 2.0763915017596446e-05, 0.9992043375968933, 0.0, 0.0, 0.0, 0.0, 0.0, 0.0, 0.0, 0.0, 0.0, 0.0, 0.0, 0.0, 0.0], [4.421346238814294e-05, 6.633664452238008e-05, 0.002719115000218153, 0.0014029124286025763, 0.9957674741744995, 0.0, 0.0, 0.0, 0.0, 0.0, 0.0, 0.0, 0.0, 0.0, 0.0, 0.0, 0.0], [2.1084341217392222e-10, 5.792774593338379e-10, 2.7260000923234884e-09, 1.1276712029939517e-05, 0.9997691512107849, 0.00021951929375063628, 0.0, 0.0, 0.0, 0.0, 0.0, 0.0, 0.0, 0.0, 0.0, 0.0, 0.0], [0.010528323240578175, 0.013303565792739391, 0.002789814490824938, 0.04008966684341431, 0.813342809677124, 0.09447116404771805, 0.0254746712744236, 0.0, 0.0, 0.0, 0.0, 0.0, 0.0, 0.0, 0.0, 0.0, 0.0], [0.0006541776238009334, 0.0004735271504614502, 0.002240939997136593, 0.00013934967864770442, 4.314456236897968e-05, 0.00018531443492975086, 0.9884945750236511, 0.0077690850012004375, 0.0, 0.0, 0.0, 0.0, 0.0, 0.0, 0.0, 0.0, 0.0], [0.6092442870140076, 0.32766076922416687, 0.04985973611474037, 0.0079072630032897, 5.74983960177633e-06, 0.0011792690493166447, 0.003142527537420392, 0.0006538904854096472, 0.00034655837225727737, 0.0, 0.0, 0.0, 0.0, 0.0, 0.0, 0.0, 0.0], [0.08011477440595627, 0.07886546105146408, 0.002061657141894102, 0.4610159695148468, 0.027900060638785362, 0.31440675258636475, 9.251679148292169e-05, 4.93170264235232e-05, 0.004066984634846449, 0.031426407396793365, 0.0, 0.0, 0.0, 0.0, 0.0, 0.0, 0.0], [0.133982315659523, 0.12441425770521164, 0.0014957233797758818, 0.4224780201911926, 0.00721952086314559, 0.23848998546600342, 4.803193951374851e-05, 1.9160343072144315e-05, 0.003497387282550335, 0.02913033403456211, 0.03922520950436592, 0.0, 0.0, 0.0, 0.0, 0.0, 0.0], [0.009741650894284248, 0.007899057120084763, 3.6523106246022508e-06, 0.4850938618183136, 0.0005672462284564972, 0.4818892776966095, 2.150833955383291e-09, 2.2086503292939597e-08, 1.4966320122766774e-05, 0.006146209314465523, 0.007089138496667147, 0.0015548967057839036, 0.0, 0.0, 0.0, 0.0, 0.0], [0.007087221369147301, 0.005408547352999449, 6.733276677550748e-06, 0.4552339017391205, 0.0007014843868091702, 0.520104706287384, 6.629894855336715e-09, 1.162811216204318e-07, 1.2043518836435396e-05, 0.00526290712878108, 0.005607312079519033, 0.00046038857544772327, 0.00011454077321104705, 0.0, 0.0, 0.0, 0.0], [0.01413756050169468, 0.010797085240483284, 1.2669001989706885e-05, 0.47767654061317444, 0.0006864743772894144, 0.4779709279537201, 1.343868660796943e-08, 2.0755720697707147e-07, 2.552347541495692e-05, 0.007715026382356882, 0.008689895272254944, 0.0014538380783051252, 0.00040009667281992733, 0.00043414495303295553, 0.0, 0.0, 0.0], [9.678638889454305e-06, 1.5705189071013592e-05, 3.393292900000233e-06, 7.55075816414319e-05, 0.00031456362921744585, 0.00028340076096355915, 5.126106771058403e-05, 6.605333965126192e-06, 0.0022124105598777533, 7.772515527904034e-05, 5.2327617595437914e-05, 0.3391404151916504, 0.3841720223426819, 0.27320849895477295, 0.00037647728458978236, 0.0, 0.0], [4.999302746000467e-06, 8.454804628854617e-06, 1.9006625734618865e-05, 5.008529842598364e-05, 0.0008755205781199038, 0.0002521156275179237, 0.0015819278778508306, 6.887884228490293e-05, 0.005343425553292036, 5.939562834100798e-05, 3.619553172029555e-05, 0.24674899876117706, 0.44843757152557373, 0.28415367007255554, 0.010106180794537067, 0.0022534667514264584, 0.0], [9.788576199598609e-12, 1.9475747403685517e-11, 2.8895986048382838e-08, 3.3648877462155724e-08, 0.0005671289982274175, 3.999404896148917e-07, 1.487960162194213e-06, 7.125244678718445e-07, 1.1560692847467635e-08, 7.821427394638647e-10, 2.664006515384898e-10, 5.720876572468114e-08, 1.0024679113485035e-06, 3.463554207883135e-07, 0.002364059677347541, 0.005559317301958799, 0.9915054440498352]], [[1.0, 0.0, 0.0, 0.0, 0.0, 0.0, 0.0, 0.0, 0.0, 0.0, 0.0, 0.0, 0.0, 0.0, 0.0, 0.0, 0.0], [0.4788603186607361, 0.5211397409439087, 0.0, 0.0, 0.0, 0.0, 0.0, 0.0, 0.0, 0.0, 0.0, 0.0, 0.0, 0.0, 0.0, 0.0, 0.0], [0.011785982176661491, 0.009752876125276089, 0.9784612059593201, 0.0, 0.0, 0.0, 0.0, 0.0, 0.0, 0.0, 0.0, 0.0, 0.0, 0.0, 0.0, 0.0, 0.0], [0.009213817305862904, 0.008324164897203445, 0.8738725781440735, 0.10858942568302155, 0.0, 0.0, 0.0, 0.0, 0.0, 0.0, 0.0, 0.0, 0.0, 0.0, 0.0, 0.0, 0.0], [0.4036861062049866, 0.3638818562030792, 0.23124650120735168, 0.0011697123991325498, 1.583811899763532e-05, 0.0, 0.0, 0.0, 0.0, 0.0, 0.0, 0.0, 0.0, 0.0, 0.0, 0.0, 0.0], [0.0034231299068778753, 0.0028639985248446465, 0.11778681725263596, 0.011196519248187542, 0.8282115459442139, 0.0365179218351841, 0.0, 0.0, 0.0, 0.0, 0.0, 0.0, 0.0, 0.0, 0.0, 0.0, 0.0], [8.775584865361452e-05, 5.7504508731653914e-05, 0.0005933119682595134, 0.005972854793071747, 0.9647862315177917, 0.016081035137176514, 0.012421402148902416, 0.0, 0.0, 0.0, 0.0, 0.0, 0.0, 0.0, 0.0, 0.0, 0.0], [0.042635925114154816, 0.030115529894828796, 0.035520508885383606, 0.12314500659704208, 0.4972214996814728, 0.0698525533080101, 0.029269348829984665, 0.17223969101905823, 0.0, 0.0, 0.0, 0.0, 0.0, 0.0, 0.0, 0.0, 0.0], [0.43060728907585144, 0.3771074414253235, 0.0787372812628746, 0.04551301896572113, 0.005102768074721098, 0.012319348752498627, 0.00610145041719079, 0.006620693486183882, 0.037890683859586716, 0.0, 0.0, 0.0, 0.0, 0.0, 0.0, 0.0, 0.0], [0.050838928669691086, 0.04140697047114372, 0.08375575393438339, 0.036182716488838196, 0.07024881988763809, 0.017984768375754356, 0.03120156191289425, 0.026896527037024498, 0.35954704880714417, 0.2819369435310364, 0.0, 0.0, 0.0, 0.0, 0.0, 0.0, 0.0], [0.025051875039935112, 0.020584838464856148, 0.060409121215343475, 0.02288777381181717, 0.06825251877307892, 0.011779049411416054, 0.021323448047041893, 0.023904109373688698, 0.24592383205890656, 0.2142900675535202, 0.2855934202671051, 0.0, 0.0, 0.0, 0.0, 0.0, 0.0], [0.3858379125595093, 0.3814353048801422, 0.17302602529525757, 0.015250448137521744, 0.0010444322833791375, 0.005137366708368063, 0.01738516055047512, 0.00017018680227920413, 0.0016481817001476884, 0.0009669567225500941, 0.0011263411724939942, 0.016971683129668236, 0.0, 0.0, 0.0, 0.0, 0.0], [0.44649818539619446, 0.4381726384162903, 0.05819842219352722, 0.012002505362033844, 0.00014523672871291637, 0.003317594062536955, 0.0031126171816140413, 1.3381179996940773e-05, 0.00045378709910437465, 0.00027202931232750416, 0.0002971687645185739, 0.0041959541849792, 0.03332046791911125, 0.0, 0.0, 0.0, 0.0], [0.4148399829864502, 0.40413883328437805, 0.06532930582761765, 0.011655207723379135, 0.00015933362010400742, 0.003300913842394948, 0.003573017893359065, 2.225574826297816e-05, 0.00047702205483801663, 0.0003340073744766414, 0.0003860582073684782, 0.005772024858742952, 0.045519281178712845, 0.04449266567826271, 0.0, 0.0, 0.0], [3.16314618942215e-09, 2.1031267838367285e-09, 5.4189886355970884e-08, 1.3929243314336759e-09, 1.4454846208877825e-08, 2.2163251234275094e-09, 6.818801523422735e-08, 2.607470378279686e-05, 1.1139176248065041e-09, 5.694135385425625e-09, 1.2866243181974824e-08, 2.615197729483043e-07, 9.173272133011778e-07, 6.765894795535132e-07, 0.999971866607666, 0.0, 0.0], [4.295218625216535e-10, 2.8192434498031105e-10, 5.470906838667133e-09, 7.041289079579016e-11, 2.099852514092504e-10, 9.201087808330399e-11, 2.908909335630483e-09, 2.911765477620065e-07, 3.175895310625343e-11, 2.4098817386075666e-10, 6.126373852666234e-10, 2.233928242389993e-08, 1.1490490692267485e-07, 8.490756897572282e-08, 0.08714038878679276, 0.9128590822219849, 0.0], [1.3167486656584515e-07, 9.435854764205942e-08, 1.9370018833342328e-07, 3.51615292437657e-10, 3.1940004027036784e-12, 2.9909066889821645e-10, 1.2298595919446598e-08, 1.178960040704169e-09, 4.588425559642895e-12, 2.8194566126238385e-10, 1.1132720301176846e-09, 1.2570326646255126e-07, 3.7805796182510676e-06, 2.895170609917841e-06, 0.013349034823477268, 0.09547401964664459, 0.8911697268486023]], [[1.0, 0.0, 0.0, 0.0, 0.0, 0.0, 0.0, 0.0, 0.0, 0.0, 0.0, 0.0, 0.0, 0.0, 0.0, 0.0, 0.0], [0.4402383863925934, 0.5597615838050842, 0.0, 0.0, 0.0, 0.0, 0.0, 0.0, 0.0, 0.0, 0.0, 0.0, 0.0, 0.0, 0.0, 0.0, 0.0], [0.4446627199649811, 0.4493735134601593, 0.105963796377182, 0.0, 0.0, 0.0, 0.0, 0.0, 0.0, 0.0, 0.0, 0.0, 0.0, 0.0, 0.0, 0.0, 0.0], [0.45098888874053955, 0.32360032200813293, 0.06976678967475891, 0.1556439995765686, 0.0, 0.0, 0.0, 0.0, 0.0, 0.0, 0.0, 0.0, 0.0, 0.0, 0.0, 0.0, 0.0], [0.5332205891609192, 0.283500999212265, 0.1809340864419937, 0.0022833622060716152, 6.0969028709223494e-05, 0.0, 0.0, 0.0, 0.0, 0.0, 0.0, 0.0, 0.0, 0.0, 0.0, 0.0, 0.0], [0.5688484311103821, 0.3273869454860687, 0.07878679037094116, 0.0241752490401268, 0.00027963073807768524, 0.0005229550879448652, 0.0, 0.0, 0.0, 0.0, 0.0, 0.0, 0.0, 0.0, 0.0, 0.0, 0.0], [0.41837021708488464, 0.28525814414024353, 0.21204620599746704, 0.015466705895960331, 0.0010374708799645305, 0.0003658591886050999, 0.06745536625385284, 0.0, 0.0, 0.0, 0.0, 0.0, 0.0, 0.0, 0.0, 0.0, 0.0], [0.01327013410627842, 0.006481099873781204, 0.05077413097023964, 0.00015879262355156243, 7.222132990136743e-05, 6.990561359998537e-06, 0.9237355589866638, 0.00550106493756175, 0.0, 0.0, 0.0, 0.0, 0.0, 0.0, 0.0, 0.0, 0.0], [1.360066903544066e-06, 6.669678782600386e-07, 2.7402591058489634e-06, 3.830680839200795e-07, 0.0009097476140595973, 1.1011242406766542e-07, 9.714085172163323e-05, 0.25568312406539917, 0.7433047890663147, 0.0, 0.0, 0.0, 0.0, 0.0, 0.0, 0.0, 0.0], [1.7839302017819136e-05, 9.309197594120633e-06, 9.666426194598898e-06, 7.672478204767685e-06, 0.0005160255241207778, 1.4631510794060887e-06, 1.9445693396846764e-05, 0.005727326963096857, 0.9810869097709656, 0.01260423008352518, 0.0, 0.0, 0.0, 0.0, 0.0, 0.0, 0.0], [3.4651409805519506e-05, 1.8932221792056225e-05, 1.875172347354237e-05, 2.922993735410273e-05, 0.004622969310730696, 7.864865438023116e-06, 3.147299503325485e-05, 0.01335453987121582, 0.9296558499336243, 0.024282380938529968, 0.02794325351715088, 0.0, 0.0, 0.0, 0.0, 0.0, 0.0], [7.287430037195008e-08, 7.06599507793726e-08, 9.044926230217243e-08, 2.8690888029814232e-06, 0.9545111060142517, 2.0480230887187645e-05, 1.6700139440217754e-06, 0.04503880813717842, 4.656921737478115e-05, 0.00022105110110715032, 0.00015649478882551193, 7.783035584907338e-07, 0.0, 0.0, 0.0, 0.0, 0.0], [3.669741488465661e-08, 3.885827837279976e-08, 6.969513322019338e-08, 1.702675604065007e-06, 0.9386664032936096, 1.919214628287591e-05, 2.7347230115992716e-06, 0.06104620546102524, 1.9881716070813127e-05, 0.0001461325737182051, 9.641701763030142e-05, 5.497921051755839e-07, 7.059759923322417e-07, 0.0, 0.0, 0.0, 0.0], [4.8943647357191367e-08, 5.139386161090442e-08, 8.113397598208394e-08, 2.1473877040989464e-06, 0.9247849583625793, 2.434949237795081e-05, 2.9351785997278057e-06, 0.07489796727895737, 2.1283300156937912e-05, 0.0001579865493113175, 0.00010540103539824486, 5.891619139219983e-07, 7.434278472828737e-07, 1.3257407545097522e-06, 0.0, 0.0, 0.0], [0.00021087286586407572, 0.0002055539225693792, 0.00020296007278375328, 7.034503505565226e-05, 0.0029127472080290318, 7.85229894972872e-06, 2.2671703845844604e-05, 3.672621460282244e-05, 0.006180960685014725, 0.013963690027594566, 0.020412670448422432, 0.007659494876861572, 0.0022307371255010366, 0.006024952046573162, 0.9398577213287354, 0.0, 0.0], [1.0242280040984042e-05, 1.0422996638226323e-05, 1.462908312532818e-05, 2.511113507353002e-06, 7.324886973947287e-05, 2.599807942260668e-07, 1.2502127901825588e-06, 4.4297587464825483e-07, 0.0001409183460054919, 0.0003792888892348856, 0.0005601505399681628, 0.000492172664962709, 0.0002480860857758671, 0.0005841326783411205, 0.2899347245693207, 0.7075475454330444, 0.0], [2.94852889055619e-05, 1.8725517293205485e-05, 1.5487534255953506e-05, 2.1714263311878312e-06, 2.8000044039799832e-05, 1.8509236809904905e-08, 1.121946837656651e-07, 3.585498052416369e-05, 0.9331845641136169, 0.0075064110569655895, 0.012894106097519398, 0.00938242394477129, 0.0009326177532784641, 0.0048004942946136, 0.012111539952456951, 0.019038688391447067, 1.9429313397267833e-05]], [[1.0, 0.0, 0.0, 0.0, 0.0, 0.0, 0.0, 0.0, 0.0, 0.0, 0.0, 0.0, 0.0, 0.0, 0.0, 0.0, 0.0], [0.4886196255683899, 0.5113803744316101, 0.0, 0.0, 0.0, 0.0, 0.0, 0.0, 0.0, 0.0, 0.0, 0.0, 0.0, 0.0, 0.0, 0.0, 0.0], [0.2517816424369812, 0.18049302697181702, 0.5677253603935242, 0.0, 0.0, 0.0, 0.0, 0.0, 0.0, 0.0, 0.0, 0.0, 0.0, 0.0, 0.0, 0.0, 0.0], [0.16985243558883667, 0.17413192987442017, 0.07450834661722183, 0.5815072655677795, 0.0, 0.0, 0.0, 0.0, 0.0, 0.0, 0.0, 0.0, 0.0, 0.0, 0.0, 0.0, 0.0], [0.03075276128947735, 0.025056974962353706, 0.04436551779508591, 0.49151772260665894, 0.4083070158958435, 0.0, 0.0, 0.0, 0.0, 0.0, 0.0, 0.0, 0.0, 0.0, 0.0, 0.0, 0.0], [0.013575593009591103, 0.016136251389980316, 0.0053910547867417336, 0.18231993913650513, 0.4698513150215149, 0.31272584199905396, 0.0, 0.0, 0.0, 0.0, 0.0, 0.0, 0.0, 0.0, 0.0, 0.0, 0.0], [0.003312664106488228, 0.002815426094457507, 0.049256253987550735, 0.0019293274963274598, 0.0006533992709591985, 0.0022611164022237062, 0.939771831035614, 0.0, 0.0, 0.0, 0.0, 0.0, 0.0, 0.0, 0.0, 0.0, 0.0], [0.000369929795851931, 0.0002662389597389847, 0.024889416992664337, 0.00010699252015911043, 0.00033317835186608136, 9.303767728852108e-05, 0.9364175200462341, 0.03752359375357628, 0.0, 0.0, 0.0, 0.0, 0.0, 0.0, 0.0, 0.0, 0.0], [0.047534506767988205, 0.0359521210193634, 0.13068394362926483, 0.005144376307725906, 0.00013383959594648331, 0.004683574661612511, 0.7418096661567688, 0.030278852209448814, 0.0037790946662425995, 0.0, 0.0, 0.0, 0.0, 0.0, 0.0, 0.0, 0.0], [0.07644087821245193, 0.06124963238835335, 0.09645914286375046, 0.016522809863090515, 0.0016557598719373345, 0.017328104004263878, 0.5903338193893433, 0.13525325059890747, 0.002590351738035679, 0.002166367368772626, 0.0, 0.0, 0.0, 0.0, 0.0, 0.0, 0.0], [0.07245256751775742, 0.05774691700935364, 0.08131662011146545, 0.015285208821296692, 0.0017872320022433996, 0.015682566910982132, 0.536952555179596, 0.21123482286930084, 0.0026881969533860683, 0.0019556470215320587, 0.0028977233450859785, 0.0, 0.0, 0.0, 0.0, 0.0, 0.0], [0.00013600962120108306, 0.0002568547206465155, 1.6627376680844463e-05, 0.0013186383293941617, 0.0034056634176522493, 0.001534828799776733, 1.820702323129808e-06, 1.5024706044641789e-05, 1.4664235095551703e-05, 0.00010050147102447227, 4.483282100409269e-05, 0.9931545257568359, 0.0, 0.0, 0.0, 0.0, 0.0], [1.132405259340885e-06, 2.4245521217380883e-06, 1.840192993540768e-07, 1.3363211110117845e-05, 7.391520193777978e-05, 1.6113714082166553e-05, 2.1465167421297338e-08, 6.63684218693561e-08, 2.8888987912978337e-07, 2.4032030978560215e-06, 1.0463661510584643e-06, 0.09953898191452026, 0.900350034236908, 0.0, 0.0, 0.0, 0.0], [1.4691037222291925e-06, 3.074137566727586e-06, 2.8318027034401894e-07, 1.7631826267461292e-05, 0.00011664761404972523, 2.075651536870282e-05, 3.223091127324551e-08, 1.0948684803224751e-07, 4.893359459856583e-07, 4.579014785122126e-06, 2.056669245575904e-06, 0.09011771529912949, 0.7252437472343445, 0.1844715029001236, 0.0, 0.0, 0.0], [1.6437644134725815e-08, 1.4818174243202975e-08, 1.5819246357295924e-07, 1.213294240187679e-06, 1.804917587833188e-06, 4.28982815492418e-07, 4.306632206407812e-08, 6.63904138491489e-05, 3.127302761640749e-06, 7.720279882050818e-08, 2.932585907444718e-08, 1.1984346315330185e-07, 4.633818306842841e-08, 4.1022591545925025e-08, 0.9999265670776367, 0.0, 0.0], [8.008961549510474e-11, 6.746782299504872e-11, 4.779399098708836e-10, 1.2045128450210996e-08, 2.641144725146205e-08, 3.799679237914688e-09, 8.60308629890838e-11, 9.645435739003005e-07, 5.3996323856608797e-08, 3.967123296533259e-10, 1.089331957970785e-10, 2.75161199381202e-10, 9.946973800190051e-11, 9.265499478772199e-11, 0.037138961255550385, 0.9628600478172302, 0.0], [1.5110032148889802e-17, 1.9205206492654054e-17, 2.3715807483654688e-17, 1.5601123772848377e-14, 1.195257109433412e-12, 9.234935949634093e-15, 5.670857457726714e-18, 3.7741057295429675e-14, 4.9754359567879755e-15, 1.5904565597026586e-16, 2.3539776831858503e-17, 3.630990026335344e-14, 7.792625052183144e-13, 3.371757083606153e-13, 4.135101789870532e-07, 2.45202609221451e-05, 0.9999750852584839]], [[1.0, 0.0, 0.0, 0.0, 0.0, 0.0, 0.0, 0.0, 0.0, 0.0, 0.0, 0.0, 0.0, 0.0, 0.0, 0.0, 0.0], [0.5189961194992065, 0.48100388050079346, 0.0, 0.0, 0.0, 0.0, 0.0, 0.0, 0.0, 0.0, 0.0, 0.0, 0.0, 0.0, 0.0, 0.0, 0.0], [0.022309545427560806, 0.023844188079237938, 0.953846275806427, 0.0, 0.0, 0.0, 0.0, 0.0, 0.0, 0.0, 0.0, 0.0, 0.0, 0.0, 0.0, 0.0, 0.0], [0.0015439135022461414, 0.0016858463641256094, 0.496014803647995, 0.5007554292678833, 0.0, 0.0, 0.0, 0.0, 0.0, 0.0, 0.0, 0.0, 0.0, 0.0, 0.0, 0.0, 0.0], [0.0009456315310671926, 0.0009580740006640553, 0.01132595632225275, 0.00472339428961277, 0.9820469617843628, 0.0, 0.0, 0.0, 0.0, 0.0, 0.0, 0.0, 0.0, 0.0, 0.0, 0.0, 0.0], [2.2982674636295997e-05, 2.522030808904674e-05, 0.030878370627760887, 0.07547139376401901, 0.47638747096061707, 0.41721460223197937, 0.0, 0.0, 0.0, 0.0, 0.0, 0.0, 0.0, 0.0, 0.0, 0.0, 0.0], [2.573062602095888e-06, 2.8012464099447243e-06, 0.0011504694120958447, 0.005541699472814798, 0.5066362023353577, 0.03174478933215141, 0.4549214839935303, 0.0, 0.0, 0.0, 0.0, 0.0, 0.0, 0.0, 0.0, 0.0, 0.0], [0.00014750588161405176, 0.00013718698755837977, 0.015388396568596363, 0.0018258632626384497, 0.09889594465494156, 0.0014672783436253667, 0.8819460868835449, 0.00019177906506229192, 0.0, 0.0, 0.0, 0.0, 0.0, 0.0, 0.0, 0.0, 0.0], [0.0008149788482114673, 0.0008152101072482765, 0.17025497555732727, 0.0015510616358369589, 0.0008704921347089112, 0.00016417996084783226, 0.8131133913993835, 7.131903203116963e-06, 0.012408529408276081, 0.0, 0.0, 0.0, 0.0, 0.0, 0.0, 0.0, 0.0], [0.0002456815855111927, 0.00023378398327622563, 0.08079801499843597, 0.001396877458319068, 0.00022630397870671004, 0.0003383128496352583, 0.9007341861724854, 5.107979814056307e-05, 0.0015792297199368477, 0.014396476559340954, 0.0, 0.0, 0.0, 0.0, 0.0, 0.0, 0.0], [0.0003447820490691811, 0.0003252617025282234, 0.10215190052986145, 0.0012734098127111793, 0.0001509236462879926, 0.00026140984846279025, 0.8537724614143372, 4.6765911974944174e-05, 0.0013975457986816764, 0.013090277090668678, 0.027185285463929176, 0.0, 0.0, 0.0, 0.0, 0.0, 0.0], [9.722577942739008e-07, 8.576781738156569e-07, 0.0018489817157387733, 8.297572094306815e-06, 3.1161049264483154e-05, 5.049096216680482e-06, 0.9957757592201233, 1.1660668860713486e-05, 3.854241003864445e-05, 3.276396819273941e-05, 6.928760558366776e-05, 0.0021767085418105125, 0.0, 0.0, 0.0, 0.0, 0.0], [6.222243200681987e-07, 5.49438368580013e-07, 0.0009411628707312047, 5.811275968881091e-06, 8.85813424247317e-05, 5.295997652865481e-06, 0.9835489988327026, 1.9172135580447502e-05, 5.178304127184674e-05, 2.0263547412469052e-05, 3.8244699680944905e-05, 0.000853916397318244, 0.014425501227378845, 0.0, 0.0, 0.0, 0.0], [8.307505368065904e-07, 7.254169531734078e-07, 0.00124645815230906, 6.056345227989368e-06, 6.149129330879077e-05, 4.744472335005412e-06, 0.956803023815155, 1.7623415260459296e-05, 5.1176375563954934e-05, 2.3751927074044943e-05, 4.6614262828370556e-05, 0.0010482650250196457, 0.017656750977039337, 0.0230324175208807, 0.0, 0.0, 0.0], [2.019311750700581e-06, 2.285802565893391e-06, 2.2977492335485294e-06, 0.00011568241461645812, 0.9662458300590515, 0.0006637952756136656, 1.2753123883157969e-05, 0.02946440503001213, 0.0014845256227999926, 1.3136798770574387e-05, 3.928063961211592e-06, 8.159453500411473e-06, 7.325654223677702e-06, 5.440211225504754e-06, 0.001968277618288994, 0.0, 0.0], [5.32523642959859e-07, 5.970286451884022e-07, 1.1182993375769001e-07, 1.20009426609613e-05, 0.9974094033241272, 8.644667832413688e-05, 2.7873929298039e-07, 0.0015905901091173291, 0.00035017618210986257, 7.005928068792855e-07, 1.622821770297378e-07, 1.2292005635572423e-07, 1.1151916368135062e-07, 9.00861110153528e-08, 2.2516149329021573e-05, 0.0005261215846985579, 0.0], [2.4182025981644983e-07, 2.6322743451601127e-07, 9.590331018216602e-08, 4.629870090866461e-06, 0.0869409367442131, 1.2064206202921923e-05, 4.2932910560011806e-07, 6.108177331043407e-06, 0.00011894947965629399, 1.1649702855720534e-06, 3.934957817364193e-07, 4.313793397159316e-06, 1.351558694295818e-05, 1.3292032235767692e-05, 0.0003305113350506872, 0.002426334423944354, 0.9101267457008362]], [[1.0, 0.0, 0.0, 0.0, 0.0, 0.0, 0.0, 0.0, 0.0, 0.0, 0.0, 0.0, 0.0, 0.0, 0.0, 0.0, 0.0], [0.36412104964256287, 0.6358789801597595, 0.0, 0.0, 0.0, 0.0, 0.0, 0.0, 0.0, 0.0, 0.0, 0.0, 0.0, 0.0, 0.0, 0.0, 0.0], [0.2502245008945465, 0.3411966562271118, 0.4085788428783417, 0.0, 0.0, 0.0, 0.0, 0.0, 0.0, 0.0, 0.0, 0.0, 0.0, 0.0, 0.0, 0.0, 0.0], [0.004739990923553705, 0.00719004450365901, 0.8979015350341797, 0.09016844630241394, 0.0, 0.0, 0.0, 0.0, 0.0, 0.0, 0.0, 0.0, 0.0, 0.0, 0.0, 0.0, 0.0], [7.176750841608737e-06, 1.1806007023551501e-05, 0.0044541386887431145, 2.211058745160699e-05, 0.9955047965049744, 0.0, 0.0, 0.0, 0.0, 0.0, 0.0, 0.0, 0.0, 0.0, 0.0, 0.0, 0.0], [5.507094101631083e-06, 7.162323527154513e-06, 9.816665988182649e-05, 5.842624887009151e-06, 0.9998757839202881, 7.488254595955368e-06, 0.0, 0.0, 0.0, 0.0, 0.0, 0.0, 0.0, 0.0, 0.0, 0.0, 0.0], [9.518858860246837e-05, 8.407496352447197e-05, 1.0771050540370197e-07, 8.571815124014392e-05, 0.9996898174285889, 4.447355240699835e-05, 7.676100608478009e-07, 0.0, 0.0, 0.0, 0.0, 0.0, 0.0, 0.0, 0.0, 0.0, 0.0], [0.00016227825835812837, 9.725239215185866e-05, 4.596771674414413e-08, 0.0004775025590788573, 0.999125063419342, 0.00012204373342683539, 8.33858351256822e-08, 1.578052615514025e-05, 0.0, 0.0, 0.0, 0.0, 0.0, 0.0, 0.0, 0.0, 0.0], [2.2047333914088085e-06, 1.8508227412894485e-06, 0.0019377997377887368, 2.9980299586895853e-05, 0.014670265838503838, 4.052622534800321e-05, 0.32948219776153564, 0.5019875168800354, 0.1518476903438568, 0.0, 0.0, 0.0, 0.0, 0.0, 0.0, 0.0, 0.0], [3.3376022656739224e-07, 3.087648963173706e-07, 1.4332142200146336e-05, 4.421022765654925e-07, 0.0005184151232242584, 2.3513173630362871e-07, 0.0014138553524389863, 0.0021300646476447582, 0.9952019453048706, 0.000720000418368727, 0.0, 0.0, 0.0, 0.0, 0.0, 0.0, 0.0], [1.4885999917169102e-06, 1.337592038908042e-06, 4.6461915189865977e-05, 1.6544362324566464e-06, 0.0008051107288338244, 7.045416055007081e-07, 0.0020624203607439995, 0.0020349924452602863, 0.991969645023346, 0.0015646995743736625, 0.001511498587206006, 0.0, 0.0, 0.0, 0.0, 0.0, 0.0], [2.266568088771237e-07, 2.278659678722761e-07, 3.507272916536408e-09, 6.020318892296928e-07, 0.001056698733009398, 6.294467311818153e-07, 3.587974140017991e-09, 1.9306787635287037e-06, 0.9910421371459961, 4.6313147322507575e-05, 1.9556135157472454e-05, 0.007831650786101818, 0.0, 0.0, 0.0, 0.0, 0.0], [9.561373559563435e-08, 9.118672750219048e-08, 3.446776891680159e-11, 1.1298233459910989e-07, 0.00011698022717610002, 8.34438367292023e-08, 6.154405110536665e-12, 1.66257017042426e-08, 0.9981108903884888, 6.319043677649461e-06, 2.1682305941794766e-06, 0.001668391516432166, 9.482965106144547e-05, 0.0, 0.0, 0.0, 0.0], [1.0430718333509503e-07, 9.835078174091905e-08, 6.723350348680768e-11, 1.9564818387607374e-07, 0.00021508344798348844, 1.6056571894296212e-07, 1.2082407990776645e-11, 2.8101862170615277e-08, 0.9980090260505676, 1.5444431483047083e-05, 5.319544925441733e-06, 0.0016092429868876934, 9.3441667559091e-05, 5.186082125874236e-05, 0.0, 0.0, 0.0], [6.882536207619694e-10, 5.520313650642095e-10, 6.040205499397572e-15, 3.431066888937018e-11, 1.6531025437416247e-08, 2.4016465899334705e-12, 4.856791098954e-16, 4.2792974567530673e-13, 0.9999418258666992, 4.8539867236740974e-08, 2.3264597359684558e-08, 5.505664739757776e-05, 1.9671090285555692e-06, 1.0907975820373395e-06, 6.741839616956902e-13, 0.0, 0.0], [1.9040209409126874e-09, 1.4791807778635757e-09, 4.6522979696081435e-15, 4.8212378533918354e-11, 1.0001486749899868e-08, 2.4678531787558633e-12, 2.858258417461453e-16, 2.0704880138947696e-13, 0.9999276399612427, 2.8009658592509368e-08, 1.3958527667057297e-08, 6.900292646605521e-05, 2.1908158487349283e-06, 1.1770670198529842e-06, 3.532594952237317e-13, 2.839201855391049e-13, 0.0], [1.3565440326601674e-07, 1.1562915602780777e-07, 1.8780593746825502e-10, 8.099416276552418e-11, 2.5153090721374838e-09, 1.1437889481033525e-12, 1.3400985876543814e-10, 7.456001926975375e-10, 0.9997585415840149, 1.0728459898246001e-08, 1.358962098407801e-08, 0.00011844592518173158, 6.874837708892301e-05, 5.394501204136759e-05, 2.1817994522166373e-08, 7.023158055119438e-09, 5.4219881917561e-08]], [[1.0, 0.0, 0.0, 0.0, 0.0, 0.0, 0.0, 0.0, 0.0, 0.0, 0.0, 0.0, 0.0, 0.0, 0.0, 0.0, 0.0], [0.44943317770957947, 0.5505667328834534, 0.0, 0.0, 0.0, 0.0, 0.0, 0.0, 0.0, 0.0, 0.0, 0.0, 0.0, 0.0, 0.0, 0.0, 0.0], [0.4027995467185974, 0.5754181742668152, 0.021782277151942253, 0.0, 0.0, 0.0, 0.0, 0.0, 0.0, 0.0, 0.0, 0.0, 0.0, 0.0, 0.0, 0.0, 0.0], [0.2616080939769745, 0.2713049054145813, 0.029880540445446968, 0.437206506729126, 0.0, 0.0, 0.0, 0.0, 0.0, 0.0, 0.0, 0.0, 0.0, 0.0, 0.0, 0.0, 0.0], [0.25831693410873413, 0.2752307653427124, 0.07534821331501007, 0.38187000155448914, 0.009234056808054447, 0.0, 0.0, 0.0, 0.0, 0.0, 0.0, 0.0, 0.0, 0.0, 0.0, 0.0, 0.0], [0.010045395232737064, 0.012504546903073788, 0.00021193316206336021, 0.07292342931032181, 5.694249557564035e-05, 0.9042577147483826, 0.0, 0.0, 0.0, 0.0, 0.0, 0.0, 0.0, 0.0, 0.0, 0.0, 0.0], [0.0003046703350264579, 0.0005314768641255796, 5.371471729631594e-07, 0.02666974999010563, 9.922852768795565e-06, 0.9724569320678711, 2.6707619326771237e-05, 0.0, 0.0, 0.0, 0.0, 0.0, 0.0, 0.0, 0.0, 0.0, 0.0], [3.648473648354411e-05, 5.156028419150971e-05, 3.618726395870908e-06, 0.013644278049468994, 0.0030350415036082268, 0.9742523431777954, 0.004295369144529104, 0.0046814060769975185, 0.0, 0.0, 0.0, 0.0, 0.0, 0.0, 0.0, 0.0, 0.0], [7.661852578166872e-05, 5.293017238727771e-05, 0.0007193853380158544, 3.357868627062999e-05, 3.22605119436048e-05, 2.2673895728075877e-05, 0.00417665671557188, 0.994195282459259, 0.0006906503695063293, 0.0, 0.0, 0.0, 0.0, 0.0, 0.0, 0.0, 0.0], [0.04170968756079674, 0.02938193827867508, 0.06117931008338928, 0.020471705123782158, 0.0008032733458094299, 0.018284635618329048, 0.2045343816280365, 0.5580040812492371, 0.05475065857172012, 0.010880314745008945, 0.0, 0.0, 0.0, 0.0, 0.0, 0.0, 0.0], [0.0934850350022316, 0.06426242738962173, 0.1479296088218689, 0.028384067118167877, 0.0012171253329142928, 0.015907511115074158, 0.2344653606414795, 0.311422199010849, 0.062079448252916336, 0.014900260604918003, 0.025946972891688347, 0.0, 0.0, 0.0, 0.0, 0.0, 0.0], [0.042312998324632645, 0.08393383771181107, 0.0026689665392041206, 0.003968517761677504, 0.010512477718293667, 0.0037353571970015764, 0.00012312379840295762, 6.820070120738819e-05, 0.002845967886969447, 0.0006317073130048811, 0.0004628452879842371, 0.8487359881401062, 0.0, 0.0, 0.0, 0.0, 0.0], [0.0004657188255805522, 0.0012377245584502816, 1.9233311832067557e-05, 6.86296189087443e-05, 0.0006121197366155684, 0.00010621416004141793, 1.2209642363814055e-06, 1.509945718680683e-06, 2.378977478656452e-05, 1.258020074601518e-05, 7.759311301924754e-06, 0.10119481384754181, 0.8962487578392029, 0.0, 0.0, 0.0, 0.0], [0.00023040453379508108, 0.0006068235379643738, 7.160148925322574e-06, 3.58258475898765e-05, 0.00021785561693832278, 6.538451998494565e-05, 5.306024490892014e-07, 7.417548886223813e-07, 1.753113610902801e-05, 7.07926892573596e-06, 4.51760661235312e-06, 0.07971800118684769, 0.5916900634765625, 0.32739800214767456, 0.0, 0.0, 0.0], [1.3687202908840845e-06, 4.487720161705511e-06, 4.544017606633588e-09, 2.0892530301352963e-05, 8.18416810943745e-06, 0.0010217487579211593, 1.2374251845415074e-08, 3.536919090940671e-10, 5.138627966516651e-05, 5.489250725077e-07, 2.147048121514672e-07, 0.6040400266647339, 0.3092619776725769, 0.08558886498212814, 3.516039441819885e-07, 0.0, 0.0], [3.0937908377381973e-06, 1.0847604244190734e-05, 2.2748723793597492e-08, 7.529909635195509e-05, 0.0001622188137844205, 0.00567709980532527, 1.0686569140716529e-07, 2.664691800546848e-09, 4.126628482481465e-05, 1.1156942036905093e-06, 3.5207494875066914e-07, 0.49107199907302856, 0.40056321024894714, 0.10237967222929001, 6.346363988996018e-06, 7.228612957987934e-06, 0.0], [0.0002147825580323115, 0.0004813551204279065, 2.4565842977608554e-05, 0.0005020977696403861, 0.0008442664984613657, 0.005839829333126545, 3.319320603623055e-05, 2.061802206299035e-06, 9.427221084479243e-05, 6.375666089297738e-06, 3.3904561860254034e-06, 0.16514770686626434, 0.380404531955719, 0.12844911217689514, 0.0009582513011991978, 0.001629188540391624, 0.31536492705345154]], [[1.0, 0.0, 0.0, 0.0, 0.0, 0.0, 0.0, 0.0, 0.0, 0.0, 0.0, 0.0, 0.0, 0.0, 0.0, 0.0, 0.0], [0.5242816209793091, 0.4757184088230133, 0.0, 0.0, 0.0, 0.0, 0.0, 0.0, 0.0, 0.0, 0.0, 0.0, 0.0, 0.0, 0.0, 0.0, 0.0], [0.4086841642856598, 0.34568294882774353, 0.2456328570842743, 0.0, 0.0, 0.0, 0.0, 0.0, 0.0, 0.0, 0.0, 0.0, 0.0, 0.0, 0.0, 0.0, 0.0], [0.035207636654376984, 0.030452435836195946, 0.1068338006734848, 0.8275060653686523, 0.0, 0.0, 0.0, 0.0, 0.0, 0.0, 0.0, 0.0, 0.0, 0.0, 0.0, 0.0, 0.0], [0.00010245067824143916, 7.756568811601028e-05, 0.0002953517541754991, 0.0005497726378962398, 0.9989749193191528, 0.0, 0.0, 0.0, 0.0, 0.0, 0.0, 0.0, 0.0, 0.0, 0.0, 0.0, 0.0], [0.0005056601949036121, 0.00039431214099749923, 0.0012504508486017585, 0.054662130773067474, 0.024466942995786667, 0.9187204837799072, 0.0, 0.0, 0.0, 0.0, 0.0, 0.0, 0.0, 0.0, 0.0, 0.0, 0.0], [0.006816163659095764, 0.00483456626534462, 0.0014937918167561293, 0.15486931800842285, 0.005866342689841986, 0.8062938451766968, 0.019825899973511696, 0.0, 0.0, 0.0, 0.0, 0.0, 0.0, 0.0, 0.0, 0.0, 0.0], [0.015712754800915718, 0.010947095230221748, 0.012116648256778717, 0.026454102247953415, 0.6287650465965271, 0.04742882400751114, 0.06283310055732727, 0.19574235379695892, 0.0, 0.0, 0.0, 0.0, 0.0, 0.0, 0.0, 0.0, 0.0], [1.028312567541434e-06, 9.821120556807728e-07, 0.0003238543285988271, 2.9835282475687563e-06, 0.993293046951294, 1.5444206837855745e-06, 0.006134262774139643, 1.3885198768548435e-07, 0.0002422228135401383, 0.0, 0.0, 0.0, 0.0, 0.0, 0.0, 0.0, 0.0], [0.00011841152445413172, 0.00010658394603524357, 0.002104368293657899, 0.002825098345056176, 0.9806593060493469, 0.010373424738645554, 0.0021049962379038334, 5.146348414086788e-08, 0.0002305849629919976, 0.0014772186987102032, 0.0, 0.0, 0.0, 0.0, 0.0, 0.0, 0.0], [0.0001808836095733568, 0.00016518670599907637, 0.002763573545962572, 0.003759700106456876, 0.9691314697265625, 0.013193579390645027, 0.0021541316527873278, 9.338679518577919e-08, 0.00030353086185641587, 0.0022503782529383898, 0.006097455974668264, 0.0, 0.0, 0.0, 0.0, 0.0, 0.0], [0.0782390683889389, 0.06678271293640137, 0.09771677851676941, 0.06171286106109619, 0.002903888002038002, 0.06345538049936295, 0.6055949926376343, 0.008510670624673367, 0.00030773994512856007, 0.0010385363129898906, 0.0010267855832353234, 0.012710665352642536, 0.0, 0.0, 0.0, 0.0, 0.0], [0.06314682960510254, 0.052166007459163666, 0.0545821450650692, 0.01778416335582733, 0.00013348359789233655, 0.012427637353539467, 0.7770511507987976, 0.008446075022220612, 4.188519233139232e-05, 7.088469283189625e-05, 5.8404544688528404e-05, 0.0035165022127330303, 0.010574840009212494, 0.0, 0.0, 0.0, 0.0], [0.039026133716106415, 0.03176179155707359, 0.05164721608161926, 0.01641937531530857, 0.00014210869267117232, 0.012716141529381275, 0.831763505935669, 0.002714423928409815, 1.232913837156957e-05, 4.3368403567001224e-05, 3.9422211557393894e-05, 0.0026003827806562185, 0.0073760924860835075, 0.0037376401014626026, 0.0, 0.0, 0.0], [3.565711210740119e-07, 2.618056385017553e-07, 2.6443687239918745e-09, 4.371053208274134e-08, 7.417365566197986e-08, 6.698680721228811e-08, 1.2835426943524908e-08, 0.8150670528411865, 0.18461482226848602, 5.074305954622105e-05, 3.2954489142866805e-05, 7.494376040995121e-05, 7.365334749920294e-05, 8.503148274030536e-05, 3.080327815041528e-08, 0.0, 0.0], [6.144983188960396e-08, 4.423533184194639e-08, 2.408671317954969e-10, 3.060107056640504e-09, 3.063297171479462e-08, 4.7033035244226085e-09, 6.018104903304788e-10, 0.0593176931142807, 0.9404677152633667, 1.797711411199998e-05, 1.1483472007967066e-05, 3.50699556292966e-05, 6.326001312118024e-05, 8.656989666633308e-05, 2.495762707610538e-09, 2.986070057886536e-08, 0.0], [2.0934069766553876e-07, 1.5972922540186119e-07, 3.533887849016537e-08, 1.2935834092786536e-07, 5.7750570704229176e-05, 5.044809654464188e-07, 3.783729951578607e-08, 2.1592193206743104e-06, 0.1981486976146698, 3.185252717230469e-05, 4.1286566556664184e-05, 0.00023760930343996733, 0.0019646387081593275, 0.002598402788862586, 9.023922871165269e-07, 4.009482836409006e-06, 0.7969115972518921]]]}\n",
       "    )\n",
       "    </script>"
      ],
      "text/plain": [
       "<circuitsvis.utils.render.RenderedHTML at 0x17719f8e0>"
      ]
     },
     "execution_count": 56,
     "metadata": {},
     "output_type": "execute_result"
    }
   ],
   "source": [
    "#print((gpt_cache.keys()))\n",
    "layer = 1\n",
    "attention_pattern = gpt_cache[\"pattern\", layer, \"attn\"].squeeze()\n",
    "actions = [f'{i}-{action_map[a.item()]}' for i, a in enumerate(episode.actions)]\n",
    "print(f\"Layer {layer} Head Attention Patterns:\")\n",
    "cv.attention.attention_patterns(attention=attention_pattern, tokens=actions)"
   ]
  },
  {
   "cell_type": "code",
   "execution_count": 33,
   "metadata": {},
   "outputs": [
    {
     "name": "stdout",
     "output_type": "stream",
     "text": [
      "0: tensor([0.0149, 0.1223, 0.0122, 0.8505])\n",
      "1: tensor([0.0072, 0.0723, 0.0212, 0.8993])\n",
      "2: tensor([0.0184, 0.7083, 0.0441, 0.2292])\n",
      "3: tensor([0.0662, 0.7094, 0.0375, 0.1869])\n",
      "4: tensor([0.0398, 0.7282, 0.0321, 0.1999])\n",
      "5: tensor([0.0296, 0.7602, 0.0299, 0.1803])\n",
      "6: tensor([0.0193, 0.7656, 0.0242, 0.1910])\n",
      "7: tensor([0.0321, 0.8795, 0.0371, 0.0514])\n",
      "8: tensor([0.0246, 0.8546, 0.0407, 0.0801])\n"
     ]
    }
   ],
   "source": [
    "act_probs = F.softmax(policy.action_head(gpt_logits.squeeze()), dim=-1)\n",
    "for i in range(act_probs.shape[0]):\n",
    "    print(f\"{i}: {act_probs[i]}\")"
   ]
  },
  {
   "cell_type": "code",
   "execution_count": null,
   "metadata": {},
   "outputs": [],
   "source": []
  }
 ],
 "metadata": {
  "kernelspec": {
   "display_name": "Python 3 (ipykernel)",
   "language": "python",
   "name": "python3"
  },
  "language_info": {
   "codemirror_mode": {
    "name": "ipython",
    "version": 3
   },
   "file_extension": ".py",
   "mimetype": "text/x-python",
   "name": "python",
   "nbconvert_exporter": "python",
   "pygments_lexer": "ipython3",
   "version": "3.10.12"
  }
 },
 "nbformat": 4,
 "nbformat_minor": 4
}
