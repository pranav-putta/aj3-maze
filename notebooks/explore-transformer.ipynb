{
 "cells": [
  {
   "cell_type": "code",
   "execution_count": 1,
   "metadata": {},
   "outputs": [
    {
     "data": {
      "text/plain": [
       "<torch.autograd.grad_mode.set_grad_enabled at 0x10848b7f0>"
      ]
     },
     "execution_count": 1,
     "metadata": {},
     "output_type": "execute_result"
    }
   ],
   "source": [
    "import circuitsvis as cv\n",
    "import transformer_lens\n",
    "import transformer_lens.utils as utils\n",
    "import torch\n",
    "from transformer_lens.hook_points import (\n",
    "    HookedRootModule,\n",
    "    HookPoint,\n",
    ")  # Hooking utilities\n",
    "import os\n",
    "from transformer_lens import FactoredMatrix, ActivationCache\n",
    "from mazelens.nets.modules.hooked_gpt import HookedGPT\n",
    "from mazelens.nets.modules.hooked_gpt_config import HookedGPTConfig\n",
    "from mazelens.configs.root import WBLoggerConfig\n",
    "from mazelens.envs import *\n",
    "from mazelens.util.util import *\n",
    "from mazelens.trainers import *\n",
    "from mazelens.nets.impala import ImpalaPolicyNet\n",
    "from mazelens.nets.state_encoders.hooked_dt import HookedTransformerStateEncoder\n",
    "from mazelens.envs.aj3_maze import AJ3MazeEnv\n",
    "import mazelens.util.util as mutil\n",
    "from mazelens.util.structs import ExperienceDict\n",
    "from PIL import Image, ImageOps, ImageFont, ImageDraw\n",
    "from torch.nn import functional as F\n",
    "from einops import rearrange\n",
    "from torch.distributions import Categorical\n",
    "import hydra\n",
    "from IPython.display import display, HTML\n",
    "import IPython\n",
    "\n",
    "import pathlib\n",
    "import circuitsvis as cv\n",
    "\n",
    "import warnings\n",
    "from tqdm import tqdm\n",
    "from torch.nn import Sequential, Linear\n",
    "from torch.nn import functional as F\n",
    "from sklearn.model_selection import train_test_split\n",
    "from torch import nn\n",
    "warnings.filterwarnings(\"ignore\")\n",
    "\n",
    "torch.set_grad_enabled(False)"
   ]
  },
  {
   "cell_type": "code",
   "execution_count": 155,
   "metadata": {},
   "outputs": [],
   "source": [
    "# Variables\n",
    "model_path = '/Users/pranavputta/Downloads/epoch_8150_student.pt'\n",
    "experiment = '+experiment=aj3/ad/explore/ppo_11x11'"
   ]
  },
  {
   "cell_type": "markdown",
   "metadata": {},
   "source": [
    "## Utility Functions"
   ]
  },
  {
   "cell_type": "code",
   "execution_count": 156,
   "metadata": {},
   "outputs": [],
   "source": [
    "action_map = {0: \"RIGHT\", 1: \"LEFT\", 2: \"DOWN\", 3: \"UP\"}\n",
    "\n",
    "def cat_imgs_horizontally(images):\n",
    "    padding = 10\n",
    "    # Get the total width and maximum height of the images\n",
    "    total_width = sum(img.width + padding for img in images) - padding\n",
    "    max_height = max(img.height for img in images)\n",
    "\n",
    "    # Create a new blank image with the calculated dimensions\n",
    "    concatenated_image = Image.new('RGB', (total_width, max_height), (255, 255, 255))\n",
    "\n",
    "    # Paste each image side by side with padding\n",
    "    current_width = 0\n",
    "    for img in images:\n",
    "        concatenated_image.paste(img, (current_width, 0))\n",
    "        current_width += img.width + padding\n",
    "\n",
    "    return concatenated_image\n",
    "    \n",
    "def plot_maze(frame, max_width=500):\n",
    "    img = maze_to_rgb(frame)\n",
    "    w, h, c = img.shape\n",
    "    ratio = max_width // w\n",
    "    return Image.fromarray(img).resize((w * ratio, h * ratio), resample=Image.NEAREST)\n",
    "\n",
    "def grid_to_frame(f, s, v, su, a, max_width=500):\n",
    "    img = maze_to_rgb(f)\n",
    "    img_height, img_width = img.shape[:2]\n",
    "    ratio = max_width // img_width\n",
    "    img_height, img_width = img_height * ratio, img_width * ratio\n",
    "    img = Image.fromarray(img).resize((img_height, img_width), resample=Image.NEAREST)\n",
    "\n",
    "    # Add padding to the image\n",
    "    font_size = 32\n",
    "    font = ImageFont.truetype(\"../misc/arial.ttf\", size=font_size)\n",
    "    padding = 50\n",
    "    if v and not su:\n",
    "        padding_color = (0, 0, 0)  # White color, you can change it to your desired color\n",
    "    elif v and su:\n",
    "        padding_color = (0, 255, 0)\n",
    "    else:\n",
    "        padding_color = (255, 0, 0)\n",
    "    padded_image = ImageOps.expand(img, border=padding, fill=padding_color)\n",
    "    draw = ImageDraw.Draw(padded_image)\n",
    "    text = \"Action: {}\".format(action_map[a])  # Replace \"action\" with your desired action text\n",
    "    text_width, text_height = draw.textsize(text, font=font)\n",
    "    x = (padded_image.width - text_width) // 2\n",
    "    y = padded_image.height - padding - text_height * 2\n",
    "\n",
    "    # Overlay the text on the image\n",
    "    draw.text((x, y), text, fill=(255, 255, 255), font=font)\n",
    "\n",
    "    # Overlay the agent view on the image\n",
    "    if True:\n",
    "        partial_view_rgb = maze_to_rgb(s)\n",
    "        partial_view_size = max_width // 6\n",
    "\n",
    "        partial_height, partial_width = partial_view_rgb.shape[:2]\n",
    "        ratio = partial_view_size // partial_width\n",
    "        partial_height, partial_width = ratio * partial_height, ratio * partial_width\n",
    "\n",
    "        small_map_x = padded_image.width - (partial_width // 2) - padding\n",
    "        small_map_y = padded_image.height - (partial_height // 2) - padding\n",
    "\n",
    "        p_img = Image.fromarray(partial_view_rgb).resize((partial_height, partial_width),\n",
    "                                                         resample=Image.NEAREST)\n",
    "        # Add a border around the partial view image\n",
    "        border_color = (255, 255, 255)\n",
    "        border_thickness = 5\n",
    "        p_img = ImageOps.expand(p_img, border=border_thickness, fill=border_color)\n",
    "        padded_image.paste(p_img, (small_map_x, small_map_y))\n",
    "\n",
    "    return padded_image"
   ]
  },
  {
   "cell_type": "code",
   "execution_count": 157,
   "metadata": {},
   "outputs": [],
   "source": [
    "def embed(self, inp):\n",
    "    s, a, r = inp.states, inp.actions, inp.rewards\n",
    "    assert s is not None, 'states must be provided'\n",
    "    b, t, p, q = s.shape\n",
    "\n",
    "    # embed tokens\n",
    "    s = s.long()\n",
    "    s = rearrange(s, 'b t x y -> b t (x y)')\n",
    "    s = self.tok_embd(s)\n",
    "    s = rearrange(s, 'b t (x y) d -> (b t) d x y', x=p, y=q)\n",
    "    s = self.impala(s)\n",
    "    s = rearrange(s, '(b t) d -> b t d', b=b)\n",
    "\n",
    "    tokens = {'s': s}\n",
    "    if 'a' in self.condition_on and a is not None:\n",
    "        tokens['a'] = self.action_embd(a.long())\n",
    "    if 'r' in self.condition_on and r is not None:\n",
    "        r = rearrange(r, 'b ... -> b ... 1')\n",
    "        tokens['r'] = self.reward_embd(r.float())\n",
    "\n",
    "    if t == 1:\n",
    "        # in the case of a single step, we need to modify the order of the tokens to match the order of the\n",
    "        # environment outputs.\n",
    "        rotated_cond = self.condition_on\n",
    "        if rotated_cond == 'sa':\n",
    "            rotated_cond = 'as'\n",
    "        elif rotated_cond == 'sar':\n",
    "            rotated_cond = 'ars'\n",
    "        elif rotated_cond == 'rsa':\n",
    "            rotated_cond = 'rsa'\n",
    "        keys, x = zip(*[(k, tokens[k]) for k in rotated_cond if k in tokens])\n",
    "        x = torch.cat(x, dim=1)\n",
    "    else:\n",
    "        keys, x = zip(*[(k, tokens[k]) for k in self.condition_on if k in tokens])\n",
    "        # interleave tokens into a sequence\n",
    "        x = torch.stack(x, dim=2).view(b, t * len(x), self.hidden_dim)\n",
    "    head_position = keys.index('s')\n",
    "    return x, head_position"
   ]
  },
  {
   "cell_type": "markdown",
   "metadata": {},
   "source": [
    "## Setup Config and Necessary Components"
   ]
  },
  {
   "cell_type": "code",
   "execution_count": 158,
   "metadata": {},
   "outputs": [],
   "source": [
    "from hydra import initialize, compose\n",
    "from omegaconf import OmegaConf\n",
    "\n",
    "hydra.core.global_hydra.GlobalHydra.instance().clear()\n",
    "\n",
    "with initialize(version_base=None, config_path=\"../configs/\"):\n",
    "    cfg = compose(config_name='config.yaml', overrides=[experiment])\n",
    "\n",
    "pcfg = cfg.trainer.agent.policy\n",
    "rcfg = pcfg.rnn\n",
    "ecfg = cfg.trainer.env"
   ]
  },
  {
   "cell_type": "markdown",
   "metadata": {},
   "source": [
    "### Construct Network from Config"
   ]
  },
  {
   "cell_type": "code",
   "execution_count": 159,
   "metadata": {},
   "outputs": [],
   "source": [
    "rnn = HookedTransformerStateEncoder(rcfg.n_layers, rcfg.d_model, rcfg.d_head, rcfg.n_heads,\n",
    "                                    rcfg.d_mlp, rcfg.act_fn, rcfg.n_ctx, rcfg.mode)\n",
    "policy = ImpalaPolicyNet(pcfg.in_dim, pcfg.embd_vocab_size, pcfg.embd_dim, pcfg.hidden_dim,\n",
    "               pcfg.scale, pcfg.out_dim, pcfg.condition_on, rnn)\n",
    "policy = policy.eval()"
   ]
  },
  {
   "cell_type": "markdown",
   "metadata": {},
   "source": [
    "### Load Model Weights"
   ]
  },
  {
   "cell_type": "code",
   "execution_count": 160,
   "metadata": {},
   "outputs": [
    {
     "data": {
      "text/plain": [
       "<All keys matched successfully>"
      ]
     },
     "execution_count": 160,
     "metadata": {},
     "output_type": "execute_result"
    }
   ],
   "source": [
    "state_dict = torch.load(model_path, map_location='cpu')\n",
    "policy.load_state_dict(state_dict['policy'])"
   ]
  },
  {
   "cell_type": "markdown",
   "metadata": {},
   "source": [
    "### Construct Environment"
   ]
  },
  {
   "cell_type": "code",
   "execution_count": 161,
   "metadata": {},
   "outputs": [],
   "source": [
    "env = AJ3MazeEnv(ecfg.static_env, ecfg.static_episode, ecfg.difficulty, ecfg.reward_type, cfg.seed, ecfg.visible_radius, ecfg.num_objects, ecfg.size, ecfg.max_steps)\n",
    "state, info = env.reset()"
   ]
  },
  {
   "cell_type": "markdown",
   "metadata": {},
   "source": [
    "## Start Interpreting!"
   ]
  },
  {
   "cell_type": "markdown",
   "metadata": {},
   "source": [
    "### Utility Functions"
   ]
  },
  {
   "cell_type": "code",
   "execution_count": 162,
   "metadata": {},
   "outputs": [],
   "source": [
    "def construct_episode(_policy, _env, deterministic=True, seed=None):\n",
    "    _policy.eval()\n",
    "    state, info = _env.reset(episode_seed=seed)\n",
    "    past_kv_cache = _policy.rnn.initialize_hidden(1)\n",
    "    exp = ExperienceDict(prev_dones=[True], prev_hiddens=past_kv_cache, states=torch.tensor(state[None, None]), infos=info)\n",
    "    done = False\n",
    "    episode = []\n",
    "    while not done:\n",
    "        exp.prev_dones = torch.tensor(exp.prev_dones)\n",
    "        features, action_logits, hx = _policy(exp)\n",
    "        dist = Categorical(logits=action_logits)\n",
    "        if deterministic:\n",
    "            actions = dist.mode\n",
    "        else:\n",
    "            actions = dist.sample()\n",
    "        action = actions.squeeze()\n",
    "\n",
    "        next_states, rwds, success, truncated, next_infos = _env.step(action)\n",
    "        exp.actions = action.detach().clone()\n",
    "        exp.rewards = rwds\n",
    "        exp.success = success\n",
    "        done = success or truncated\n",
    "\n",
    "        episode.append(exp)\n",
    "\n",
    "        exp = ExperienceDict(prev_dones=[done],\n",
    "                                 prev_hiddens=hx,\n",
    "                                 states=torch.tensor(next_states[None, None]),\n",
    "                                 infos=next_infos,\n",
    "                                 actions=actions,\n",
    "                                 rewards=rwds,\n",
    "                                 truncated=None, success=None)\n",
    "\n",
    "\n",
    "    return episode\n",
    "        \n",
    "def show_episode_video(_episode, save_all=True, filename='tmp'):\n",
    "    os.makedirs(f\"imgs/{filename}/\", exist_ok=True)\n",
    "\n",
    "    animation_filename = f'imgs/{filename}/animation_{filename}.gif'\n",
    "    \n",
    "    frames = [grid_to_frame(e.infos['full_view'], e.states.squeeze(), e.infos['valid'], e.success, e.actions.item()) for e in _episode]\n",
    "    frames[0].save(animation_filename, format=\"GIF\", append_images=frames,\n",
    "                   save_all=True, duration=1000, loop=0)\n",
    "\n",
    "    if save_all:\n",
    "        for i, frame in enumerate(frames):\n",
    "            frame.save(f\"imgs/{filename}/{i}.png\")\n",
    "    return animation_filename\n",
    "\n",
    "def set_seed_everywhere(seed: int):\n",
    "    torch.manual_seed(seed)\n",
    "    random.seed(seed)\n",
    "    np.random.seed(seed)\n",
    "\n",
    "def cat_episode(_episode):\n",
    "    exp = ExperienceDict(prev_dones=[], states=[], actions=[], rewards=[])\n",
    "    for frame in _episode:\n",
    "        exp.prev_dones.append(frame.prev_dones)\n",
    "        exp.states.append(frame.states)\n",
    "        exp.actions.append(frame.actions)\n",
    "        exp.rewards.append(frame.rewards)\n",
    "    exp.prev_dones = torch.tensor(exp.prev_dones)\n",
    "    exp.states = torch.cat(exp.states, dim=1)\n",
    "    exp.actions = torch.tensor(exp.actions)\n",
    "    exp.rewards = torch.tensor(exp.rewards)\n",
    "    return exp"
   ]
  },
  {
   "cell_type": "markdown",
   "metadata": {},
   "source": [
    "### Construct Episode Sequence to Hook"
   ]
  },
  {
   "cell_type": "code",
   "execution_count": 163,
   "metadata": {},
   "outputs": [
    {
     "name": "stdout",
     "output_type": "stream",
     "text": [
      "Episode of Length 16. Observations are of shape 5x5\n"
     ]
    },
    {
     "data": {
      "image/png": "[encoded data removed]",
      "text/plain": [
       "<IPython.core.display.Image object>"
      ]
     },
     "metadata": {},
     "output_type": "display_data"
    }
   ],
   "source": [
    "# Construct Episode\n",
    "seed = 4\n",
    "set_seed_everywhere(seed)\n",
    "episode = construct_episode(policy, env, deterministic=True, seed=seed)\n",
    "shape = episode[0].states.shape\n",
    "print(f\"Episode of Length {len(episode)}. Observations are of shape {shape[2]}x{shape[3]}\")\n",
    "# show as video\n",
    "gif_filename = show_episode_video(episode, filename=f\"{seed}\")\n",
    "display(IPython.display.Image(filename=gif_filename, format='png'))"
   ]
  },
  {
   "cell_type": "code",
   "execution_count": 164,
   "metadata": {},
   "outputs": [],
   "source": [
    "episode = cat_episode(episode)\n",
    "x, head_pos = embed(policy, episode)\n",
    "logits, cache = policy.rnn.gpt.run_with_cache(x)"
   ]
  },
  {
   "cell_type": "code",
   "execution_count": 166,
   "metadata": {},
   "outputs": [
    {
     "name": "stdout",
     "output_type": "stream",
     "text": [
      "Layer 0 Head Attention Patterns:\n"
     ]
    },
    {
     "data": {
      "text/html": [
       "<div id=\"circuits-vis-96843471-c611\" style=\"margin: 15px 0;\"/>\n",
       "    <script crossorigin type=\"module\">\n",
       "    import { render, AttentionPatterns } from \"https://unpkg.com/circuitsvis@1.40.0/dist/cdn/esm.js\";\n",
       "    render(\n",
       "      \"circuits-vis-96843471-c611\",\n",
       "      AttentionPatterns,\n",
       "      {\"tokens\": [\"0-UP\", \"1-UP\", \"2-UP\", \"3-UP\", \"4-UP\", \"5-UP\", \"6-UP\", \"7-UP\", \"8-UP\", \"9-LEFT\", \"10-LEFT\", \"11-LEFT\", \"12-LEFT\", \"13-LEFT\", \"14-LEFT\", \"15-LEFT\"], \"attention\": [[[1.0, 0.0, 0.0, 0.0, 0.0, 0.0, 0.0, 0.0, 0.0, 0.0, 0.0, 0.0, 0.0, 0.0, 0.0, 0.0], [1.5618043107679114e-05, 0.9999843835830688, 0.0, 0.0, 0.0, 0.0, 0.0, 0.0, 0.0, 0.0, 0.0, 0.0, 0.0, 0.0, 0.0, 0.0], [0.9999998807907104, 1.320483704603248e-07, 5.16987702851141e-15, 0.0, 0.0, 0.0, 0.0, 0.0, 0.0, 0.0, 0.0, 0.0, 0.0, 0.0, 0.0, 0.0], [0.9999998807907104, 1.1198060434480794e-07, 3.662706836232103e-15, 3.2746859135343543e-15, 0.0, 0.0, 0.0, 0.0, 0.0, 0.0, 0.0, 0.0, 0.0, 0.0, 0.0, 0.0], [0.9999998807907104, 9.277340495827957e-08, 2.3873087870023317e-15, 2.1326841185523478e-15, 1.7694471681330235e-15, 0.0, 0.0, 0.0, 0.0, 0.0, 0.0, 0.0, 0.0, 0.0, 0.0, 0.0], [0.9999998807907104, 8.024903763725888e-08, 1.722645633181908e-15, 1.5372401795441903e-15, 1.2724106699039234e-15, 1.1508523363687483e-15, 0.0, 0.0, 0.0, 0.0, 0.0, 0.0, 0.0, 0.0, 0.0, 0.0], [0.9999998807907104, 6.731249868607847e-08, 1.1804067982061086e-15, 1.0523696155365038e-15, 8.694614797250878e-16, 7.851694194955497e-16, 6.877901178957814e-16, 0.0, 0.0, 0.0, 0.0, 0.0, 0.0, 0.0, 0.0, 0.0], [1.0, 5.831881821904972e-08, 8.348176204241501e-16, 7.437721665061534e-16, 6.13244971669417e-16, 5.526591931115995e-16, 4.828219089456336e-16, 4.4240361428502656e-16, 0.0, 0.0, 0.0, 0.0, 0.0, 0.0, 0.0, 0.0], [1.0, 5.757400600714391e-08, 7.783582687480002e-16, 6.933723826555425e-16, 5.713782506690051e-16, 5.145301108700655e-16, 4.489318030886339e-16, 4.1138193256434427e-16, 4.101033892700231e-16, 0.0, 0.0, 0.0, 0.0, 0.0, 0.0, 0.0], [0.9999998807907104, 6.703626098669702e-08, 1.072941504726469e-15, 9.564222760736281e-16, 7.895304745036069e-16, 7.118162603842089e-16, 6.223107123643206e-16, 5.704678490693843e-16, 5.689661125934616e-16, 6.089997484168969e-16, 0.0, 0.0, 0.0, 0.0, 0.0, 0.0], [1.0, 5.586744400432053e-10, 1.2085814437859819e-19, 1.0762023666098363e-19, 8.600616235133787e-20, 7.331367685012547e-20, 6.18805996809192e-20, 5.784740918577842e-20, 5.601846115263539e-20, 5.94904742256443e-20, 2.3483583031192e-25, 0.0, 0.0, 0.0, 0.0, 0.0], [1.0, 3.5673622389431614e-10, 7.931211923372153e-20, 7.035622827926137e-20, 5.658330272638693e-20, 4.8117529209561503e-20, 4.096537989778137e-20, 3.8701444722360556e-20, 3.764676682313557e-20, 3.934165666708246e-20, 2.341461686655305e-25, 5.797011415193549e-24, 0.0, 0.0, 0.0, 0.0], [1.0, 3.848348306689786e-09, 2.6064164970886608e-17, 2.3476514058610448e-17, 1.9682296145833814e-17, 1.71659597828883e-17, 1.535281462175779e-17, 1.4686743977111716e-17, 1.4552507452945386e-17, 1.4906535792034406e-17, 1.8075376665995084e-21, 2.751796930299216e-20, 8.297555224023287e-19, 0.0, 0.0, 0.0], [0.9999998807907104, 8.903130321868957e-08, 3.4807775422824455e-14, 3.1975913887191676e-14, 2.8110558653493718e-14, 2.52154982956004e-14, 2.3755637011007615e-14, 2.3028660819631244e-14, 2.3251591421019104e-14, 2.3329421890410512e-14, 6.180260756099735e-17, 5.176109814574662e-16, 7.0704821663290784e-15, 2.6916316397951334e-13, 0.0, 0.0], [1.0, 2.947579944264828e-18, 3.0796067301161354e-37, 2.4736274285414772e-37, 1.6005703927038205e-37, 1.136586121869599e-37, 7.952527972548884e-38, 7.154044005243017e-38, 6.782258783440371e-38, 7.157756325134706e-38, 0.0, 0.0, 3.923635700109488e-44, 3.4427619151963906e-39, 0.0, 0.0], [1.0, 4.7736022395812566e-18, 5.347985412068571e-37, 4.267593264384309e-37, 2.7530539653914917e-37, 1.961314279438604e-37, 1.3632972678421167e-37, 1.2147455055351657e-37, 1.1494312083207402e-37, 1.2233204432019392e-37, 0.0, 0.0, 3.6433760072445244e-44, 2.7306472589988764e-39, 0.0, 6.025583396596713e-44]], [[1.0, 0.0, 0.0, 0.0, 0.0, 0.0, 0.0, 0.0, 0.0, 0.0, 0.0, 0.0, 0.0, 0.0, 0.0, 0.0], [0.9999988079071045, 1.2432764151526499e-06, 0.0, 0.0, 0.0, 0.0, 0.0, 0.0, 0.0, 0.0, 0.0, 0.0, 0.0, 0.0, 0.0, 0.0], [0.999556839466095, 1.5520881455066693e-11, 0.0004431145207490772, 0.0, 0.0, 0.0, 0.0, 0.0, 0.0, 0.0, 0.0, 0.0, 0.0, 0.0, 0.0, 0.0], [0.9990660548210144, 1.3680147292749467e-11, 0.00041525845881551504, 0.0005186312482692301, 0.0, 0.0, 0.0, 0.0, 0.0, 0.0, 0.0, 0.0, 0.0, 0.0, 0.0, 0.0], [0.9985373020172119, 1.352031594320513e-11, 0.00040193949826061726, 0.0005018042866140604, 0.0005589164793491364, 0.0, 0.0, 0.0, 0.0, 0.0, 0.0, 0.0, 0.0, 0.0, 0.0, 0.0], [0.9979206919670105, 1.2666521477522341e-11, 0.00038368345121853054, 0.0004793249536305666, 0.0005338980699889362, 0.0006825340096838772, 0.0, 0.0, 0.0, 0.0, 0.0, 0.0, 0.0, 0.0, 0.0, 0.0], [0.9969557523727417, 1.238206759346383e-11, 0.0003744130372069776, 0.0004677864781115204, 0.0005211413372308016, 0.0006661496008746326, 0.0010148272849619389, 0.0, 0.0, 0.0, 0.0, 0.0, 0.0, 0.0, 0.0, 0.0], [0.9961573481559753, 1.2285568395942192e-11, 0.000371495756553486, 0.0004641168925445527, 0.0005168599309399724, 0.0006606957758776844, 0.0010062635410577059, 0.0008232598192989826, 0.0, 0.0, 0.0, 0.0, 0.0, 0.0, 0.0, 0.0], [0.9949198365211487, 1.2986378465640325e-11, 0.000370145047781989, 0.00046224953257478774, 0.0005147489719092846, 0.0006575255538336933, 0.001000507385469973, 0.000818776898086071, 0.001256244140677154, 0.0, 0.0, 0.0, 0.0, 0.0, 0.0, 0.0], [0.9937900900840759, 1.2661698946259126e-11, 0.0003679020737763494, 0.00045941516873426735, 0.0005116902757436037, 0.0006536272703669965, 0.0009952340042218566, 0.0008144659805111587, 0.001250216388143599, 0.0011574130039662123, 0.0, 0.0, 0.0, 0.0, 0.0, 0.0], [1.6449867246137728e-07, 2.7818797443436648e-18, 1.928212450819089e-11, 2.4661692826777326e-11, 2.734814111282624e-11, 3.364725859045237e-11, 5.0146029689779326e-11, 4.225724631323757e-11, 6.426768145439965e-11, 5.884027987068663e-11, 0.9999998807907104, 0.0, 0.0, 0.0, 0.0, 0.0], [8.266732187678372e-09, 5.0527936745715294e-20, 3.6030184911994834e-13, 4.672302583892673e-13, 5.132323060465238e-13, 6.309771498694272e-13, 9.42519608367054e-13, 7.996146605092347e-13, 1.2280750418328101e-12, 1.11763137806975e-12, 0.013825023546814919, 0.9861749410629272, 0.0, 0.0, 0.0, 0.0], [7.813006241974563e-09, 3.7887676714193105e-20, 3.5248900694985486e-13, 4.594702439700282e-13, 5.040445057863385e-13, 6.235490097351859e-13, 9.342956096280997e-13, 7.92521159375531e-13, 1.2289520529701337e-12, 1.1175082127029556e-12, 0.013704502955079079, 0.9277929067611694, 0.058502521365880966, 0.0, 0.0, 0.0], [1.5590375213037078e-08, 1.7466889278807222e-19, 1.0177428561367052e-12, 1.3122978181553946e-12, 1.4344182308959064e-12, 1.7729398678334451e-12, 2.626364403734982e-12, 2.2439090516246374e-12, 3.4542937087100878e-12, 3.1482368795243687e-12, 0.017150122672319412, 0.9263388514518738, 0.054592277854681015, 0.0019186370773240924, 0.0, 0.0], [1.0643604256960724e-15, 2.991480778774855e-29, 8.112441076546252e-23, 1.0438059823122971e-22, 1.121935523671855e-22, 1.411356599111685e-22, 2.1524722344696106e-22, 1.825602227919384e-22, 2.8906620162845077e-22, 2.5798106823845714e-22, 2.815396180078089e-11, 2.8801803164668627e-09, 2.0975680914414596e-10, 8.22789492788134e-12, 1.0, 0.0], [5.221557896755184e-15, 8.93342026925036e-28, 1.153985616964664e-21, 1.455928149024435e-21, 1.5611726446101903e-21, 1.9600549485423332e-21, 2.9170106268511626e-21, 2.4749359038169878e-21, 3.8183985895865384e-21, 3.440121382985866e-21, 1.6193762997218641e-10, 1.40761633460329e-08, 1.5370544836912359e-09, 9.1644698774207e-11, 0.9862875938415527, 0.013712390325963497]], [[1.0, 0.0, 0.0, 0.0, 0.0, 0.0, 0.0, 0.0, 0.0, 0.0, 0.0, 0.0, 0.0, 0.0, 0.0, 0.0], [0.9999923706054688, 7.627833838341758e-06, 0.0, 0.0, 0.0, 0.0, 0.0, 0.0, 0.0, 0.0, 0.0, 0.0, 0.0, 0.0, 0.0, 0.0], [0.5834943056106567, 3.2994978482747683e-07, 0.416505366563797, 0.0, 0.0, 0.0, 0.0, 0.0, 0.0, 0.0, 0.0, 0.0, 0.0, 0.0, 0.0, 0.0], [0.3931425213813782, 2.0148979729128769e-07, 0.2865554094314575, 0.3203018307685852, 0.0, 0.0, 0.0, 0.0, 0.0, 0.0, 0.0, 0.0, 0.0, 0.0, 0.0, 0.0], [0.2980434000492096, 1.4071738974053005e-07, 0.21665361523628235, 0.24218975007534027, 0.24311307072639465, 0.0, 0.0, 0.0, 0.0, 0.0, 0.0, 0.0, 0.0, 0.0, 0.0, 0.0], [0.2261350154876709, 1.0839990949307321e-07, 0.1739475131034851, 0.19450786709785461, 0.19528555870056152, 0.2101239114999771, 0.0, 0.0, 0.0, 0.0, 0.0, 0.0, 0.0, 0.0, 0.0, 0.0], [0.1713813841342926, 8.515809213349712e-08, 0.1312486231327057, 0.14673826098442078, 0.14732913672924042, 0.15850156545639038, 0.24480095505714417, 0.0, 0.0, 0.0, 0.0, 0.0, 0.0, 0.0, 0.0, 0.0], [0.14492283761501312, 6.351510961621898e-08, 0.10713328421115875, 0.11987560987472534, 0.12034111469984055, 0.1295148730278015, 0.2005407065153122, 0.17767159640789032, 0.0, 0.0, 0.0, 0.0, 0.0, 0.0, 0.0, 0.0], [0.12178032100200653, 5.910476374992868e-08, 0.08852823823690414, 0.09898422658443451, 0.09934663027524948, 0.10688691586256027, 0.1650635004043579, 0.14635005593299866, 0.17305998504161835, 0.0, 0.0, 0.0, 0.0, 0.0, 0.0, 0.0], [0.10877485573291779, 5.1654023280889305e-08, 0.07565733790397644, 0.08457348495721817, 0.08487502485513687, 0.0913085788488388, 0.14094538986682892, 0.12496719509363174, 0.14776219427585602, 0.14113585650920868, 0.0, 0.0, 0.0, 0.0, 0.0, 0.0], [1.8689368275204288e-08, 3.766943978966708e-10, 0.08105501532554626, 0.09383537620306015, 0.09738970547914505, 0.09889299422502518, 0.14786309003829956, 0.14652860164642334, 0.16951745748519897, 0.16482093930244446, 9.681341907707974e-05, 0.0, 0.0, 0.0, 0.0, 0.0], [3.9602361390222995e-09, 6.833563576114088e-11, 0.07731928676366806, 0.09116852283477783, 0.09513872861862183, 0.09578272700309753, 0.1487346738576889, 0.1482439935207367, 0.17482343316078186, 0.1687808632850647, 7.369797913270304e-06, 3.1708910341876617e-07, 0.0, 0.0, 0.0, 0.0], [2.7382727196823e-09, 2.2499316645885337e-11, 0.07493729889392853, 0.0889347493648529, 0.09322549402713776, 0.09387525916099548, 0.15025778114795685, 0.14895401895046234, 0.17866677045822144, 0.1711428165435791, 5.535851414606441e-06, 2.0200290862248949e-07, 1.4266305914389932e-09, 0.0, 0.0, 0.0], [7.41574268658951e-09, 2.48038551503571e-11, 0.0741034671664238, 0.08774591237306595, 0.09220609813928604, 0.09310314804315567, 0.15128961205482483, 0.1489494889974594, 0.1808171570301056, 0.17176547646522522, 1.8695369362831116e-05, 8.619296067990945e-07, 6.020314913257607e-09, 8.569224496657313e-11, 0.0, 0.0], [4.72994637396179e-21, 8.143620665774454e-26, 3.1664579727648306e-17, 3.71530521321132e-17, 3.838685157274015e-17, 3.9699163688388175e-17, 6.550606059951977e-17, 6.238483021567137e-17, 7.502947040118158e-17, 7.217606124734316e-17, 6.009513679107202e-20, 6.405665337860479e-20, 1.1159644903298307e-21, 7.181387046526067e-23, 1.0, 0.0], [5.607295813783585e-21, 8.790889050376863e-26, 1.3756606054870591e-18, 1.5703526586975933e-18, 1.6168483775316224e-18, 1.6823854838738925e-18, 2.6457845453409277e-18, 2.515617542993205e-18, 2.9739188225345882e-18, 2.870822132913276e-18, 3.627740486197098e-20, 9.079489186316635e-20, 2.9361852227497673e-21, 3.0539867683595073e-22, 0.010027590207755566, 0.9899723529815674]], [[1.0, 0.0, 0.0, 0.0, 0.0, 0.0, 0.0, 0.0, 0.0, 0.0, 0.0, 0.0, 0.0, 0.0, 0.0, 0.0], [1.0, 7.865365306724181e-16, 0.0, 0.0, 0.0, 0.0, 0.0, 0.0, 0.0, 0.0, 0.0, 0.0, 0.0, 0.0, 0.0, 0.0], [1.0, 1.917769328757535e-12, 5.994205998768388e-17, 0.0, 0.0, 0.0, 0.0, 0.0, 0.0, 0.0, 0.0, 0.0, 0.0, 0.0, 0.0, 0.0], [1.0, 1.4827713709641976e-12, 4.2533183728668355e-17, 3.86248082739145e-17, 0.0, 0.0, 0.0, 0.0, 0.0, 0.0, 0.0, 0.0, 0.0, 0.0, 0.0, 0.0], [1.0, 1.901513668745025e-12, 6.093062022902355e-17, 5.5310179429631943e-17, 4.68259632489654e-17, 0.0, 0.0, 0.0, 0.0, 0.0, 0.0, 0.0, 0.0, 0.0, 0.0, 0.0], [1.0, 1.9307914642108237e-12, 6.366478302575633e-17, 5.780735167214583e-17, 4.895091414199777e-17, 4.592464740119292e-17, 0.0, 0.0, 0.0, 0.0, 0.0, 0.0, 0.0, 0.0, 0.0, 0.0], [1.0, 1.6911445117548385e-12, 5.2708130611613685e-17, 4.786204336213502e-17, 4.047984351562592e-17, 3.7970614288503464e-17, 4.393777280473035e-17, 0.0, 0.0, 0.0, 0.0, 0.0, 0.0, 0.0, 0.0, 0.0], [1.0, 1.9921687997165316e-12, 6.929833298349568e-17, 6.293362815615336e-17, 5.324873615530894e-17, 4.9983453922145666e-17, 5.772295277988582e-17, 4.876918587014232e-17, 0.0, 0.0, 0.0, 0.0, 0.0, 0.0, 0.0, 0.0], [1.0, 1.9454895593823407e-12, 6.880627963303483e-17, 6.247818912832656e-17, 5.287104548761723e-17, 4.9631386001108396e-17, 5.732249148429175e-17, 4.842326886414e-17, 5.916489402368826e-17, 0.0, 0.0, 0.0, 0.0, 0.0, 0.0, 0.0], [1.0, 1.8236486539618957e-12, 6.187597517260835e-17, 5.618204764759754e-17, 4.7505521900679764e-17, 4.459871658393982e-17, 5.1520550714893753e-17, 4.3505302928152924e-17, 5.3176877321135235e-17, 5.819588171458444e-17, 0.0, 0.0, 0.0, 0.0, 0.0, 0.0], [1.0, 8.620104630097103e-10, 6.130204549988354e-16, 5.832392000898478e-16, 5.389124307128134e-16, 4.921625647714804e-16, 5.886259061179116e-16, 5.330546684869579e-16, 6.427218241129851e-16, 6.623655240114372e-16, 7.853706427600818e-15, 0.0, 0.0, 0.0, 0.0, 0.0], [1.0, 1.0387656707022686e-10, 5.1496380497394954e-17, 5.0283899155514726e-17, 4.511789153232505e-17, 4.163993123750704e-17, 5.057862360776737e-17, 4.5545537291570066e-17, 5.611179685253463e-17, 5.770974435986457e-17, 1.3173766844583388e-15, 7.652276169392233e-16, 0.0, 0.0, 0.0, 0.0], [1.0, 7.268560319600992e-12, 7.929975805344269e-19, 7.80825411025556e-19, 6.875189726404799e-19, 6.332658506243519e-19, 7.906174200205939e-19, 7.037854276875469e-19, 8.89301669760607e-19, 9.148190542845256e-19, 3.3161161213993547e-17, 2.097616544254436e-17, 8.072295848649198e-19, 0.0, 0.0, 0.0], [1.0, 2.6601515586664737e-13, 7.618033750200048e-21, 7.547973814138794e-21, 6.473782045717087e-21, 5.97408256079123e-21, 7.647850218549603e-21, 6.688077966021224e-21, 8.700200864508216e-21, 8.985007873580746e-21, 3.4935595770022647e-19, 2.1788203583406414e-19, 6.1679308025352545e-21, 1.5303250277724279e-22, 0.0, 0.0], [1.0, 1.970454201035557e-16, 3.5916180682439524e-22, 3.563110780830927e-22, 2.6607483161312265e-22, 2.6444167496914894e-22, 3.255717055833011e-22, 2.6303919387563633e-22, 3.5692323414554422e-22, 3.852479602124395e-22, 1.8481507755987317e-22, 2.448475470639296e-23, 4.074474957113644e-25, 7.949994602513561e-27, 3.6367053954092294e-27, 0.0], [1.0, 6.033941108417475e-17, 2.191704748532276e-22, 2.15155286441623e-22, 1.5733112575664967e-22, 1.5844052924665457e-22, 1.9316508820010344e-22, 1.5387015946261715e-22, 2.1023697220039792e-22, 2.286536179194918e-22, 4.175321495565946e-23, 3.923336997674737e-24, 6.136396756211446e-26, 1.2023226271699746e-27, 3.5235771852926468e-28, 1.7851121098294632e-26]], [[1.0, 0.0, 0.0, 0.0, 0.0, 0.0, 0.0, 0.0, 0.0, 0.0, 0.0, 0.0, 0.0, 0.0, 0.0, 0.0], [3.768540045712143e-05, 0.999962329864502, 0.0, 0.0, 0.0, 0.0, 0.0, 0.0, 0.0, 0.0, 0.0, 0.0, 0.0, 0.0, 0.0, 0.0], [5.704953015395537e-19, 5.4912505613588167e-14, 1.0, 0.0, 0.0, 0.0, 0.0, 0.0, 0.0, 0.0, 0.0, 0.0, 0.0, 0.0, 0.0, 0.0], [2.0763264765907272e-19, 2.1200155549800336e-14, 0.47152313590049744, 0.5284768342971802, 0.0, 0.0, 0.0, 0.0, 0.0, 0.0, 0.0, 0.0, 0.0, 0.0, 0.0, 0.0], [1.419786115824e-19, 1.3746069949351677e-14, 0.2659296691417694, 0.29797086119651794, 0.43609946966171265, 0.0, 0.0, 0.0, 0.0, 0.0, 0.0, 0.0, 0.0, 0.0, 0.0, 0.0], [9.130998627789107e-20, 8.913004984404099e-15, 0.17871619760990143, 0.20029433071613312, 0.2932185232639313, 0.3277709186077118, 0.0, 0.0, 0.0, 0.0, 0.0, 0.0, 0.0, 0.0, 0.0, 0.0], [5.462923070089818e-20, 5.620053864153389e-15, 0.12295723706483841, 0.13787534832954407, 0.2021646350622177, 0.22600246965885162, 0.31100037693977356, 0.0, 0.0, 0.0, 0.0, 0.0, 0.0, 0.0, 0.0, 0.0], [3.9470965030104956e-20, 4.069954771557813e-15, 0.08784247189760208, 0.0984930545091629, 0.14440077543258667, 0.16140009462833405, 0.2221192866563797, 0.28574424982070923, 0.0, 0.0, 0.0, 0.0, 0.0, 0.0, 0.0, 0.0], [2.842794229380865e-20, 2.954332123652147e-15, 0.06470522284507751, 0.07257374376058578, 0.10643352568149567, 0.11896050721406937, 0.1636832058429718, 0.21061041951179504, 0.263033390045166, 0.0, 0.0, 0.0, 0.0, 0.0, 0.0, 0.0], [2.1955698287043026e-20, 2.2533251154056464e-15, 0.05050085857510567, 0.056638702750205994, 0.08310095965862274, 0.09287111461162567, 0.12787218391895294, 0.16460566222667694, 0.20567645132541656, 0.2187339961528778, 0.0, 0.0, 0.0, 0.0, 0.0, 0.0], [3.374989212572714e-17, 2.5682290495654403e-12, 0.06365839391946793, 0.0708535760641098, 0.0956982746720314, 0.10508514195680618, 0.1333167552947998, 0.15631918609142303, 0.18316464126110077, 0.1919040083885193, 6.3441074615866455e-09, 0.0, 0.0, 0.0, 0.0, 0.0], [2.989056848129768e-18, 3.9246543840319725e-13, 0.06009913608431816, 0.06689534336328506, 0.09264356642961502, 0.10169220715761185, 0.1330045461654663, 0.15901808440685272, 0.188178151845932, 0.19846896827220917, 3.1143010392753467e-09, 9.214925711376054e-09, 0.0, 0.0, 0.0, 0.0], [3.384741671994714e-17, 2.0593080192476965e-12, 0.06347722560167313, 0.06990610808134079, 0.09496510028839111, 0.10386260598897934, 0.13362830877304077, 0.15768404304981232, 0.18375349044799805, 0.19272302091121674, 1.2574860264180643e-08, 3.764040101827959e-08, 4.521397034551455e-09, 0.0, 0.0, 0.0], [1.7493160537129858e-15, 2.8605989105257024e-11, 0.0690486952662468, 0.07487006485462189, 0.098665751516819, 0.10700816661119461, 0.13398273289203644, 0.15520910918712616, 0.17694394290447235, 0.18427108228206635, 9.613714979650467e-08, 2.897169224524987e-07, 4.5194184394858894e-08, 1.1056683568710923e-08, 0.0, 0.0], [5.078294542550592e-25, 2.4646151696985765e-20, 2.0429697045187822e-08, 2.2233741958643805e-08, 3.292640471386221e-08, 3.5141816567829665e-08, 4.779245799113596e-08, 6.062425939035165e-08, 7.174921989872018e-08, 7.618125152930588e-08, 6.062482148273005e-16, 6.973247866181968e-15, 4.567464231808836e-16, 7.746607978796678e-17, 0.9999996423721313, 0.0], [8.672169888502142e-30, 8.762376042736199e-25, 1.270772549688548e-11, 1.3929633488340976e-11, 2.1640290254199002e-11, 2.3114708064264633e-11, 3.239657500597737e-11, 4.2697054225548925e-11, 5.1841315962253276e-11, 5.516574350106218e-11, 1.1278557245841955e-19, 2.1085522441836626e-18, 9.038270388652205e-20, 1.1046237754692755e-20, 0.016013210639357567, 0.9839867353439331]], [[1.0, 0.0, 0.0, 0.0, 0.0, 0.0, 0.0, 0.0, 0.0, 0.0, 0.0, 0.0, 0.0, 0.0, 0.0, 0.0], [0.08478328585624695, 0.9152166843414307, 0.0, 0.0, 0.0, 0.0, 0.0, 0.0, 0.0, 0.0, 0.0, 0.0, 0.0, 0.0, 0.0, 0.0], [0.001109852222725749, 0.9884442687034607, 0.01044590212404728, 0.0, 0.0, 0.0, 0.0, 0.0, 0.0, 0.0, 0.0, 0.0, 0.0, 0.0, 0.0, 0.0], [0.0011462068650871515, 0.9807077050209045, 0.01020815223455429, 0.007937870919704437, 0.0, 0.0, 0.0, 0.0, 0.0, 0.0, 0.0, 0.0, 0.0, 0.0, 0.0, 0.0], [0.0010881939670071006, 0.9727646708488464, 0.010410018265247345, 0.008091341704130173, 0.007645925972610712, 0.0, 0.0, 0.0, 0.0, 0.0, 0.0, 0.0, 0.0, 0.0, 0.0, 0.0], [0.0011060297256335616, 0.9640713930130005, 0.010117139667272568, 0.00786107312887907, 0.007433989085257053, 0.009410266764461994, 0.0, 0.0, 0.0, 0.0, 0.0, 0.0, 0.0, 0.0, 0.0, 0.0], [0.0010002756025642157, 0.9566001892089844, 0.010006404481828213, 0.0077649871818721294, 0.007335599046200514, 0.009283861145377159, 0.008008613251149654, 0.0, 0.0, 0.0, 0.0, 0.0, 0.0, 0.0, 0.0, 0.0], [0.0010216549271717668, 0.9479049444198608, 0.010008945129811764, 0.007776166312396526, 0.0073474496603012085, 0.00930798426270485, 0.008038214407861233, 0.008594837039709091, 0.0, 0.0, 0.0, 0.0, 0.0, 0.0, 0.0, 0.0], [0.000989707070402801, 0.9392274022102356, 0.01003582775592804, 0.007796384394168854, 0.007366432808339596, 0.009328692220151424, 0.008055548183619976, 0.00861442182213068, 0.00858557689934969, 0.0, 0.0, 0.0, 0.0, 0.0, 0.0, 0.0], [0.0009933746187016368, 0.9334174990653992, 0.009716386906802654, 0.0075452993623912334, 0.007129075936973095, 0.009026532992720604, 0.007789446972310543, 0.008329981938004494, 0.008299034088850021, 0.007753434590995312, 0.0, 0.0, 0.0, 0.0, 0.0, 0.0], [1.0191213732468896e-05, 3.216093773517059e-06, 6.725777552674117e-07, 6.28921668521798e-07, 6.409268280549441e-07, 7.413017897306418e-07, 7.789288929416216e-07, 8.047683195400168e-07, 9.005210586110479e-07, 8.464123766316334e-07, 0.9999805688858032, 0.0, 0.0, 0.0, 0.0, 0.0], [0.00011418158101150766, 2.9595526029879693e-06, 8.361354275621125e-07, 8.25358426936873e-07, 8.58995974795107e-07, 9.656008614911116e-07, 1.0706896773626795e-06, 1.1006956128767342e-06, 1.2715651109829196e-06, 1.1936776900256518e-06, 0.2774181365966797, 0.7224565744400024, 0.0, 0.0, 0.0, 0.0], [0.00033574012923054397, 3.632158950495068e-06, 1.0973574262607144e-06, 1.1070278560509905e-06, 1.153807374976168e-06, 1.28899546325556e-06, 1.454017478863534e-06, 1.4965277159717516e-06, 1.7554193618707359e-06, 1.6474323274451308e-06, 0.19154642522335052, 0.5754336714744568, 0.23266944289207458, 0.0, 0.0, 0.0], [0.0011990772327408195, 1.0430016118334606e-05, 3.356877641635947e-06, 3.440773070906289e-06, 3.5743216812988976e-06, 3.950109658035217e-06, 4.4798784983868245e-06, 4.6028935685171746e-06, 5.4075185289548244e-06, 5.101745500724064e-06, 0.1689571887254715, 0.5359482169151306, 0.2434849590063095, 0.05036628618836403, 0.0, 0.0], [2.469747869326966e-06, 0.0012809409527108073, 0.00036796260974369943, 0.0003293366462457925, 0.00033050175989046693, 0.00033859952236525714, 0.0003183252993039787, 0.0003198694030288607, 0.0003016756381839514, 0.0002967770560644567, 0.4009946286678314, 0.22557680308818817, 0.2630895674228668, 0.10642925649881363, 2.3219763534143567e-05, 0.0], [8.283058718916436e-07, 0.0023952459450811148, 0.0007522011292167008, 0.0006547844968736172, 0.000654168426990509, 0.0006628697738051414, 0.0006049679941497743, 0.000603682768996805, 0.0005500304396264255, 0.0005451133474707603, 0.4393180310726166, 0.19481219351291656, 0.2539767920970917, 0.10446441918611526, 4.5091173888067715e-06, 2.999719015406299e-07]], [[1.0, 0.0, 0.0, 0.0, 0.0, 0.0, 0.0, 0.0, 0.0, 0.0, 0.0, 0.0, 0.0, 0.0, 0.0, 0.0], [0.09175563603639603, 0.9082444310188293, 0.0, 0.0, 0.0, 0.0, 0.0, 0.0, 0.0, 0.0, 0.0, 0.0, 0.0, 0.0, 0.0, 0.0], [1.6713958757463843e-05, 0.9996169805526733, 0.00036632490810006857, 0.0, 0.0, 0.0, 0.0, 0.0, 0.0, 0.0, 0.0, 0.0, 0.0, 0.0, 0.0, 0.0], [1.5431962310685776e-05, 0.9993358254432678, 0.0003465418121777475, 0.0003021516604349017, 0.0, 0.0, 0.0, 0.0, 0.0, 0.0, 0.0, 0.0, 0.0, 0.0, 0.0, 0.0], [1.4645695046056062e-05, 0.9991475343704224, 0.00030486416653729975, 0.0002656043798197061, 0.00026724219787865877, 0.0, 0.0, 0.0, 0.0, 0.0, 0.0, 0.0, 0.0, 0.0, 0.0, 0.0], [1.4501641999231651e-05, 0.99899822473526, 0.00027674229932017624, 0.00024118150759022683, 0.0002424810954835266, 0.00022688170429319143, 0.0, 0.0, 0.0, 0.0, 0.0, 0.0, 0.0, 0.0, 0.0, 0.0], [1.3859478713129647e-05, 0.998873770236969, 0.0002578261191956699, 0.00022460002219304442, 0.00022585183614864945, 0.00021126079082023352, 0.0001928814162965864, 0.0, 0.0, 0.0, 0.0, 0.0, 0.0, 0.0, 0.0, 0.0], [1.356275151920272e-05, 0.9987132549285889, 0.00024807394947856665, 0.0002160327130695805, 0.00021691153233405203, 0.00020287312509026378, 0.0001847904932219535, 0.00020444807887542993, 0.0, 0.0, 0.0, 0.0, 0.0, 0.0, 0.0, 0.0], [1.3339915312826633e-05, 0.9984807372093201, 0.0002534426748752594, 0.0002205928904004395, 0.0002217185392510146, 0.00020743388449773192, 0.00018910103244706988, 0.0002092241629725322, 0.00020440731896087527, 0.0, 0.0, 0.0, 0.0, 0.0, 0.0, 0.0], [1.2671946933551226e-05, 0.9982879757881165, 0.00025192921748384833, 0.00021916376135777682, 0.00022052906570024788, 0.00020629391656257212, 0.00018815258226823062, 0.0002082732826238498, 0.00020344417134765536, 0.0002016264188569039, 0.0, 0.0, 0.0, 0.0, 0.0, 0.0], [0.9988001585006714, 0.0011452795006334782, 7.399188689305447e-06, 8.370645446120761e-06, 6.97106906955014e-06, 6.512217623821925e-06, 6.098835001466796e-06, 6.070888048270717e-06, 6.593274974875385e-06, 6.570533059857553e-06, 2.15033435502221e-09, 0.0, 0.0, 0.0, 0.0, 0.0], [0.9999244213104248, 6.111167022027075e-05, 1.8907560388470301e-06, 2.2444035039370647e-06, 1.8263027641296503e-06, 1.7049852658601594e-06, 1.6450484281449462e-06, 1.5998565459085512e-06, 1.7934554534804192e-06, 1.7853682265922544e-06, 6.460784129913577e-10, 9.621914376367613e-10, 0.0, 0.0, 0.0, 0.0], [0.9999439716339111, 3.407452823012136e-05, 2.8155086511105765e-06, 3.3888463804032654e-06, 2.7413370844442397e-06, 2.577464101705118e-06, 2.5265628664783435e-06, 2.4269095320050837e-06, 2.755220293693128e-06, 2.7481403321871767e-06, 1.1226741758463277e-09, 1.822478279400741e-09, 1.6585595119522623e-09, 0.0, 0.0, 0.0], [0.9998531341552734, 5.225380300544202e-05, 1.1867428838741034e-05, 1.4244473277358338e-05, 1.1637226634775288e-05, 1.1062820703955367e-05, 1.108061223931145e-05, 1.0540032235439867e-05, 1.2049992619722616e-05, 1.203340980282519e-05, 5.846948258891871e-09, 8.845121080014451e-09, 8.376213500582708e-09, 1.833358354019765e-08, 0.0, 0.0], [0.00013930146815255284, 0.9998596906661987, 1.6975295125121193e-07, 1.6282938020140136e-07, 1.388091277476633e-07, 1.2233797974658955e-07, 1.0061270927508303e-07, 1.0817768014703688e-07, 1.0672727057681186e-07, 1.0844644293683814e-07, 7.397208608589953e-16, 8.798383347781124e-17, 8.146305621249241e-17, 2.1572483916600777e-16, 1.776256776389808e-25, 0.0], [4.188814727967838e-06, 0.9999945163726807, 2.3817364080969128e-07, 2.1614353329368896e-07, 1.9424025765601982e-07, 1.7235832672213292e-07, 1.4475376985956245e-07, 1.587615372500295e-07, 1.5517613860538404e-07, 1.5663815133848402e-07, 4.819249539940505e-16, 2.9078402851223715e-17, 2.1083548375304768e-17, 3.776139053308675e-17, 2.967340046182888e-26, 6.825064314600821e-25]], [[1.0, 0.0, 0.0, 0.0, 0.0, 0.0, 0.0, 0.0, 0.0, 0.0, 0.0, 0.0, 0.0, 0.0, 0.0, 0.0], [0.9946358799934387, 0.005364097189158201, 0.0, 0.0, 0.0, 0.0, 0.0, 0.0, 0.0, 0.0, 0.0, 0.0, 0.0, 0.0, 0.0, 0.0], [0.5673899054527283, 0.034002866595983505, 0.39860719442367554, 0.0, 0.0, 0.0, 0.0, 0.0, 0.0, 0.0, 0.0, 0.0, 0.0, 0.0, 0.0, 0.0], [0.3990560472011566, 0.023484712466597557, 0.28332656621932983, 0.29413270950317383, 0.0, 0.0, 0.0, 0.0, 0.0, 0.0, 0.0, 0.0, 0.0, 0.0, 0.0, 0.0], [0.30464449524879456, 0.018361151218414307, 0.21736173331737518, 0.2256433218717575, 0.23398926854133606, 0.0, 0.0, 0.0, 0.0, 0.0, 0.0, 0.0, 0.0, 0.0, 0.0, 0.0], [0.2456977367401123, 0.015011074021458626, 0.1750306636095047, 0.1817876398563385, 0.18848848342895508, 0.19398438930511475, 0.0, 0.0, 0.0, 0.0, 0.0, 0.0, 0.0, 0.0, 0.0, 0.0], [0.19862782955169678, 0.012444062158465385, 0.1417071372270584, 0.1472289264202118, 0.1526401787996292, 0.15710176527500153, 0.19025003910064697, 0.0, 0.0, 0.0, 0.0, 0.0, 0.0, 0.0, 0.0, 0.0], [0.16787071526050568, 0.010295642539858818, 0.11818841844797134, 0.12283686548471451, 0.12738198041915894, 0.13106028735637665, 0.15879318118095398, 0.16357293725013733, 0.0, 0.0, 0.0, 0.0, 0.0, 0.0, 0.0, 0.0], [0.14440199732780457, 0.00891816709190607, 0.10050559788942337, 0.10448894649744034, 0.10836074501276016, 0.11145099252462387, 0.1350848376750946, 0.1391274780035019, 0.1476612538099289, 0.0, 0.0, 0.0, 0.0, 0.0, 0.0, 0.0], [0.12486688792705536, 0.007714163977652788, 0.08711612224578857, 0.09056398272514343, 0.09392426908016205, 0.09663432836532593, 0.11712955683469772, 0.1207083910703659, 0.12809772789478302, 0.13324451446533203, 0.0, 0.0, 0.0, 0.0, 0.0, 0.0], [0.002257997402921319, 0.0004473456065170467, 0.10002165287733078, 0.10427749902009964, 0.10716388374567032, 0.11101541668176651, 0.13358642160892487, 0.14005252718925476, 0.14579333364963531, 0.1552373468875885, 0.0001465785753680393, 0.0, 0.0, 0.0, 0.0, 0.0], [0.002544158138334751, 0.000569052470382303, 0.0987318754196167, 0.10343568027019501, 0.10700616985559464, 0.1102791577577591, 0.13384447991847992, 0.13916203379631042, 0.14795862138271332, 0.1560373157262802, 0.0003703928377944976, 6.107712397351861e-05, 0.0, 0.0, 0.0, 0.0], [0.0032800256740301847, 0.0008557135006412864, 0.10068279504776001, 0.1040775328874588, 0.10796105116605759, 0.11162418127059937, 0.13269966840744019, 0.13800938427448273, 0.14602380990982056, 0.15152639150619507, 0.002617417136207223, 0.0005058054230175912, 0.00013634916103910655, 0.0, 0.0, 0.0], [0.006998200435191393, 0.0022869131062179804, 0.10129696130752563, 0.10289391875267029, 0.10685569792985916, 0.11040759086608887, 0.12671977281570435, 0.13150258362293243, 0.13785919547080994, 0.14010904729366302, 0.024187544360756874, 0.006481054704636335, 0.0019640354439616203, 0.00043748534517362714, 0.0, 0.0], [0.2816500961780548, 0.16611778736114502, 0.013268590904772282, 0.014456105418503284, 0.014782560057938099, 0.0142733259126544, 0.016793549060821533, 0.016185415908694267, 0.017661212012171745, 0.018214628100395203, 1.0956148798868526e-05, 4.847053332923679e-06, 3.3976964459725423e-06, 5.217341367824702e-06, 0.4265722930431366, 0.0], [0.028291188180446625, 0.014611424878239632, 0.0005412265891209245, 0.0005887477309443057, 0.0006038965075276792, 0.0005836771451868117, 0.0006941703613847494, 0.0006702672690153122, 0.000737340422347188, 0.0007564827683381736, 5.268285576676135e-07, 2.270258647740775e-07, 1.3897361839099176e-07, 1.806867402365242e-07, 0.019090034067630768, 0.9328305125236511]]]}\n",
       "    )\n",
       "    </script>"
      ],
      "text/plain": [
       "<circuitsvis.utils.render.RenderedHTML at 0x1090f9c90>"
      ]
     },
     "execution_count": 166,
     "metadata": {},
     "output_type": "execute_result"
    }
   ],
   "source": [
    "#print((gpt_cache.keys()))\n",
    "layer = 0\n",
    "attention_pattern = cache[\"pattern\", layer, \"attn\"].squeeze()\n",
    "actions = [f'{i}-{action_map[a.item()]}' for i, a in enumerate(episode.actions)]\n",
    "print(f\"Layer {layer} Head Attention Patterns:\")\n",
    "cv.attention.attention_patterns(attention=attention_pattern, tokens=actions)"
   ]
  },
  {
   "cell_type": "code",
   "execution_count": 13,
   "metadata": {},
   "outputs": [
    {
     "name": "stdout",
     "output_type": "stream",
     "text": [
      "0: tensor([0.0149, 0.1223, 0.0122, 0.8505])\n",
      "1: tensor([0.0072, 0.0723, 0.0212, 0.8993])\n",
      "2: tensor([0.0184, 0.7083, 0.0441, 0.2292])\n",
      "3: tensor([0.0662, 0.7094, 0.0375, 0.1869])\n",
      "4: tensor([0.0398, 0.7282, 0.0321, 0.1999])\n",
      "5: tensor([0.0296, 0.7602, 0.0299, 0.1803])\n",
      "6: tensor([0.0193, 0.7656, 0.0242, 0.1910])\n",
      "7: tensor([0.0321, 0.8795, 0.0371, 0.0514])\n",
      "8: tensor([0.0246, 0.8546, 0.0407, 0.0801])\n"
     ]
    }
   ],
   "source": [
    "act_probs = F.softmax(policy.action_head(logits.squeeze()), dim=-1)\n",
    "for i in range(act_probs.shape[0]):\n",
    "    print(f\"{i}: {act_probs[i]}\")"
   ]
  },
  {
   "cell_type": "markdown",
   "metadata": {},
   "source": [
    "## Probing Board State Prediction"
   ]
  },
  {
   "cell_type": "code",
   "execution_count": 54,
   "metadata": {
    "scrolled": true
   },
   "outputs": [],
   "source": [
    "seeds = list(range(1000))\n",
    "probe_episodes = [cat_episode(construct_episode(policy, env, deterministic=True, seed=seed)) for seed in seeds]"
   ]
  },
  {
   "cell_type": "code",
   "execution_count": 167,
   "metadata": {},
   "outputs": [],
   "source": [
    "with torch.no_grad():\n",
    "    original_states = [e.states[:, j] for e in probe_episodes for j in range(e.states.shape[1] - 1)]\n",
    "    probe_logits = [(embed(policy, e)[0])[:, :-1] for e in probe_episodes]\n",
    "    next_states = [e.states[:, j+1] for e in probe_episodes for j in range(e.states.shape[1] - 1)]\n",
    "    X = torch.cat(probe_logits, dim=1).squeeze()\n",
    "    Y = torch.cat(next_states, dim=0).flatten(1).long()\n",
    "    O = torch.cat(original_states, dim=0).flatten(1).long()"
   ]
  },
  {
   "cell_type": "code",
   "execution_count": 168,
   "metadata": {},
   "outputs": [],
   "source": [
    "def train(_x, _y, _model, epochs=250):\n",
    "    shuffled_idxs = torch.randperm(_x.shape[0])\n",
    "    _x = _x.clone()[shuffled_idxs]\n",
    "    _y = _y.clone()[shuffled_idxs]\n",
    "    # Define the loss function and optimizer\n",
    "    criterion = nn.CrossEntropyLoss()\n",
    "    optimizer = torch.optim.SGD(_model.parameters(), lr=1e-3)\n",
    "\n",
    "    avg_loss = 0\n",
    "    for epoch in range(epochs):\n",
    "        # Forward pass\n",
    "        outputs = _model(_x)\n",
    "        loss = criterion(outputs, _y)\n",
    "    \n",
    "        # Backward and optimize\n",
    "        optimizer.zero_grad()\n",
    "        loss.backward()\n",
    "        optimizer.step()\n",
    "\n",
    "        avg_loss += loss.item()\n",
    "    \n",
    "    return loss / epochs\n"
   ]
  },
  {
   "cell_type": "code",
   "execution_count": 183,
   "metadata": {
    "scrolled": true
   },
   "outputs": [],
   "source": [
    "from copy import deepcopy\n",
    "train_len = int(X.shape[0] * 0.8)\n",
    "X_train, X_test = X[:train_len], X[train_len:]\n",
    "y_train, y_test = Y[:train_len], Y[train_len:]\n",
    "O_train, O_test = O[:train_len], O[train_len:]\n",
    "\n",
    "d_model = cfg.trainer.agent.policy.rnn.d_model\n",
    "d_out = 4\n",
    "\n",
    "construct_model = lambda: (Sequential(Linear(d_model, d_out)))\n",
    "                                     \n",
    "linear_models = [deepcopy(construct_model()) for _ in range(y_train.shape[1])]\n"
   ]
  },
  {
   "cell_type": "code",
   "execution_count": 184,
   "metadata": {
    "scrolled": true
   },
   "outputs": [
    {
     "name": "stdout",
     "output_type": "stream",
     "text": [
      "Feature 0 loss: 0.008377693593502045\n",
      "Feature 1 loss: 0.00801797118037939\n",
      "Feature 2 loss: 0.006795959547162056\n",
      "Feature 3 loss: 0.006865685805678368\n",
      "Feature 4 loss: 0.007079992908984423\n",
      "Feature 5 loss: 0.005979600362479687\n",
      "Feature 6 loss: 0.0038258612621575594\n",
      "Feature 7 loss: 0.007067652884870768\n",
      "Feature 8 loss: 0.002740650437772274\n",
      "Feature 9 loss: 0.006370871793478727\n",
      "Feature 10 loss: 0.006712490227073431\n",
      "Feature 11 loss: 0.0050271665677428246\n",
      "Feature 12 loss: 3.148741234326735e-05\n",
      "Feature 13 loss: 0.006653251592069864\n",
      "Feature 14 loss: 0.007324627600610256\n",
      "Feature 15 loss: 0.008533766493201256\n",
      "Feature 16 loss: 0.004648478701710701\n",
      "Feature 17 loss: 0.009993880055844784\n",
      "Feature 18 loss: 0.005045575555413961\n",
      "Feature 19 loss: 0.007745683658868074\n",
      "Feature 20 loss: 0.006372690666466951\n",
      "Feature 21 loss: 0.008287657052278519\n",
      "Feature 22 loss: 0.00784231536090374\n",
      "Feature 23 loss: 0.008396505378186703\n",
      "Feature 24 loss: 0.007721681613475084\n"
     ]
    }
   ],
   "source": [
    "torch.set_grad_enabled(True)\n",
    "\n",
    "for i, linear_model in enumerate(linear_models):\n",
    "    loss = train(X_train, y_train[:, i], linear_model, epochs=100)\n",
    "    print(f\"Feature {i} loss: {loss}\")"
   ]
  },
  {
   "cell_type": "code",
   "execution_count": 186,
   "metadata": {},
   "outputs": [
    {
     "data": {
      "image/png": "[encoded data removed]",
      "text/plain": [
       "<PIL.Image.Image image mode=RGB size=1520x500>"
      ]
     },
     "execution_count": 186,
     "metadata": {},
     "output_type": "execute_result"
    }
   ],
   "source": [
    "i = 384\n",
    "original_state = plot_maze(O_train[i].reshape(5, 5))\n",
    "predicted_next_state = plot_maze(torch.tensor([lm(X_train[i]).argmax() for lm in linear_models]).reshape(5, 5))\n",
    "real_next_state = plot_maze(y_train[i].reshape(5, 5))\n",
    "\n",
    "cat_imgs_horizontally([original_state, real_next_state, predicted_next_state])"
   ]
  },
  {
   "cell_type": "code",
   "execution_count": 187,
   "metadata": {},
   "outputs": [
    {
     "data": {
      "text/plain": [
       "[tensor([1.2445e-03, 9.9669e-01, 6.0549e-05, 2.0077e-03],\n",
       "        grad_fn=<SoftmaxBackward0>),\n",
       " tensor([3.3684e-03, 9.9661e-01, 4.5557e-06, 2.1469e-05],\n",
       "        grad_fn=<SoftmaxBackward0>),\n",
       " tensor([2.6377e-02, 9.7178e-01, 7.3607e-04, 1.1110e-03],\n",
       "        grad_fn=<SoftmaxBackward0>),\n",
       " tensor([2.3762e-02, 9.7611e-01, 1.3880e-05, 1.1766e-04],\n",
       "        grad_fn=<SoftmaxBackward0>),\n",
       " tensor([3.1476e-02, 9.6798e-01, 5.2544e-04, 2.1097e-05],\n",
       "        grad_fn=<SoftmaxBackward0>),\n",
       " tensor([8.3945e-01, 1.5935e-01, 5.3523e-07, 1.2030e-03],\n",
       "        grad_fn=<SoftmaxBackward0>),\n",
       " tensor([3.0325e-01, 6.9649e-01, 1.3475e-04, 1.1926e-04],\n",
       "        grad_fn=<SoftmaxBackward0>),\n",
       " tensor([7.6052e-01, 2.3916e-01, 3.0980e-04, 9.5417e-06],\n",
       "        grad_fn=<SoftmaxBackward0>),\n",
       " tensor([3.7681e-01, 6.2253e-01, 2.7063e-04, 3.8201e-04],\n",
       "        grad_fn=<SoftmaxBackward0>),\n",
       " tensor([5.4047e-02, 9.4307e-01, 4.8572e-04, 2.3964e-03],\n",
       "        grad_fn=<SoftmaxBackward0>),\n",
       " tensor([0.3944, 0.5073, 0.0032, 0.0951], grad_fn=<SoftmaxBackward0>),\n",
       " tensor([6.7626e-01, 3.2080e-01, 1.1369e-04, 2.8198e-03],\n",
       "        grad_fn=<SoftmaxBackward0>),\n",
       " tensor([1.1872e-03, 1.4157e-05, 9.9864e-01, 1.6196e-04],\n",
       "        grad_fn=<SoftmaxBackward0>),\n",
       " tensor([6.7533e-01, 3.0538e-01, 3.0074e-04, 1.8990e-02],\n",
       "        grad_fn=<SoftmaxBackward0>),\n",
       " tensor([6.6213e-01, 2.4160e-01, 6.2417e-04, 9.5646e-02],\n",
       "        grad_fn=<SoftmaxBackward0>),\n",
       " tensor([8.8167e-01, 4.2039e-02, 2.0928e-05, 7.6268e-02],\n",
       "        grad_fn=<SoftmaxBackward0>),\n",
       " tensor([8.5318e-01, 1.1363e-01, 1.5374e-04, 3.3030e-02],\n",
       "        grad_fn=<SoftmaxBackward0>),\n",
       " tensor([9.5338e-01, 2.2328e-02, 1.3408e-05, 2.4283e-02],\n",
       "        grad_fn=<SoftmaxBackward0>),\n",
       " tensor([1.1037e-01, 8.8556e-01, 1.1480e-06, 4.0654e-03],\n",
       "        grad_fn=<SoftmaxBackward0>),\n",
       " tensor([0.7449, 0.2174, 0.0043, 0.0334], grad_fn=<SoftmaxBackward0>),\n",
       " tensor([0.7549, 0.1763, 0.0301, 0.0386], grad_fn=<SoftmaxBackward0>),\n",
       " tensor([8.2579e-01, 1.6777e-01, 8.1499e-05, 6.3551e-03],\n",
       "        grad_fn=<SoftmaxBackward0>),\n",
       " tensor([4.6933e-01, 5.2950e-01, 2.3314e-05, 1.1452e-03],\n",
       "        grad_fn=<SoftmaxBackward0>),\n",
       " tensor([0.0686, 0.8844, 0.0057, 0.0413], grad_fn=<SoftmaxBackward0>),\n",
       " tensor([6.1801e-01, 3.7805e-01, 2.2173e-04, 3.7132e-03],\n",
       "        grad_fn=<SoftmaxBackward0>)]"
      ]
     },
     "execution_count": 187,
     "metadata": {},
     "output_type": "execute_result"
    }
   ],
   "source": [
    "[F.softmax(lm(X_train[i])) for lm in linear_models]\n"
   ]
  },
  {
   "cell_type": "code",
   "execution_count": null,
   "metadata": {},
   "outputs": [],
   "source": []
  }
 ],
 "metadata": {
  "kernelspec": {
   "display_name": "Python 3 (ipykernel)",
   "language": "python",
   "name": "python3"
  },
  "language_info": {
   "codemirror_mode": {
    "name": "ipython",
    "version": 3
   },
   "file_extension": ".py",
   "mimetype": "text/x-python",
   "name": "python",
   "nbconvert_exporter": "python",
   "pygments_lexer": "ipython3",
   "version": "3.10.12"
  }
 },
 "nbformat": 4,
 "nbformat_minor": 4
}
