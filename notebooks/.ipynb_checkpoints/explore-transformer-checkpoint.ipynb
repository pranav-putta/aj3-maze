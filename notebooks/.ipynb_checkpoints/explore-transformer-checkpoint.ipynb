{
 "cells": [
  {
   "cell_type": "code",
   "execution_count": 1,
   "metadata": {},
   "outputs": [
    {
     "data": {
      "text/plain": [
       "<torch.autograd.grad_mode.set_grad_enabled at 0x10848b7f0>"
      ]
     },
     "execution_count": 1,
     "metadata": {},
     "output_type": "execute_result"
    }
   ],
   "source": [
    "import circuitsvis as cv\n",
    "import transformer_lens\n",
    "import transformer_lens.utils as utils\n",
    "import torch\n",
    "from transformer_lens.hook_points import (\n",
    "    HookedRootModule,\n",
    "    HookPoint,\n",
    ")  # Hooking utilities\n",
    "import os\n",
    "from transformer_lens import FactoredMatrix, ActivationCache\n",
    "from mazelens.nets.modules.hooked_gpt import HookedGPT\n",
    "from mazelens.nets.modules.hooked_gpt_config import HookedGPTConfig\n",
    "from mazelens.configs.root import WBLoggerConfig\n",
    "from mazelens.envs import *\n",
    "from mazelens.util.util import *\n",
    "from mazelens.trainers import *\n",
    "from mazelens.nets.impala import ImpalaPolicyNet\n",
    "from mazelens.nets.state_encoders.hooked_dt import HookedTransformerStateEncoder\n",
    "from mazelens.envs.aj3_maze import AJ3MazeEnv\n",
    "import mazelens.util.util as mutil\n",
    "from mazelens.util.structs import ExperienceDict\n",
    "from PIL import Image, ImageOps, ImageFont, ImageDraw\n",
    "from torch.nn import functional as F\n",
    "from einops import rearrange\n",
    "from torch.distributions import Categorical\n",
    "import hydra\n",
    "from IPython.display import display, HTML\n",
    "import IPython\n",
    "\n",
    "import pathlib\n",
    "import circuitsvis as cv\n",
    "\n",
    "import warnings\n",
    "from tqdm import tqdm\n",
    "from torch.nn import Sequential, Linear\n",
    "from torch.nn import functional as F\n",
    "from sklearn.model_selection import train_test_split\n",
    "from torch import nn\n",
    "warnings.filterwarnings(\"ignore\")\n",
    "\n",
    "torch.set_grad_enabled(False)"
   ]
  },
  {
   "cell_type": "code",
   "execution_count": 2,
   "metadata": {},
   "outputs": [],
   "source": [
    "# Variables\n",
    "model_path = '/Users/pranavputta/Downloads/epoch_6000_student.pt'\n",
    "experiment = '+experiment=aj3/ad/explore/ppo_11x11'"
   ]
  },
  {
   "cell_type": "markdown",
   "metadata": {},
   "source": [
    "## Utility Functions"
   ]
  },
  {
   "cell_type": "code",
   "execution_count": 3,
   "metadata": {},
   "outputs": [],
   "source": [
    "action_map = {0: \"RIGHT\", 1: \"LEFT\", 2: \"DOWN\", 3: \"UP\"}\n",
    "\n",
    "def cat_imgs_horizontally(images):\n",
    "    padding = 10\n",
    "    # Get the total width and maximum height of the images\n",
    "    total_width = sum(img.width + padding for img in images) - padding\n",
    "    max_height = max(img.height for img in images)\n",
    "\n",
    "    # Create a new blank image with the calculated dimensions\n",
    "    concatenated_image = Image.new('RGB', (total_width, max_height), (255, 255, 255))\n",
    "\n",
    "    # Paste each image side by side with padding\n",
    "    current_width = 0\n",
    "    for img in images:\n",
    "        concatenated_image.paste(img, (current_width, 0))\n",
    "        current_width += img.width + padding\n",
    "\n",
    "    return concatenated_image\n",
    "    \n",
    "def plot_maze(frame, max_width=500):\n",
    "    img = maze_to_rgb(frame)\n",
    "    w, h, c = img.shape\n",
    "    ratio = max_width // w\n",
    "    return Image.fromarray(img).resize((w * ratio, h * ratio), resample=Image.NEAREST)\n",
    "\n",
    "def grid_to_frame(f, s, v, su, a, max_width=500):\n",
    "    img = maze_to_rgb(f)\n",
    "    img_height, img_width = img.shape[:2]\n",
    "    ratio = max_width // img_width\n",
    "    img_height, img_width = img_height * ratio, img_width * ratio\n",
    "    img = Image.fromarray(img).resize((img_height, img_width), resample=Image.NEAREST)\n",
    "\n",
    "    # Add padding to the image\n",
    "    font_size = 32\n",
    "    font = ImageFont.truetype(\"../misc/arial.ttf\", size=font_size)\n",
    "    padding = 50\n",
    "    if v and not su:\n",
    "        padding_color = (0, 0, 0)  # White color, you can change it to your desired color\n",
    "    elif v and su:\n",
    "        padding_color = (0, 255, 0)\n",
    "    else:\n",
    "        padding_color = (255, 0, 0)\n",
    "    padded_image = ImageOps.expand(img, border=padding, fill=padding_color)\n",
    "    draw = ImageDraw.Draw(padded_image)\n",
    "    text = \"Action: {}\".format(action_map[a])  # Replace \"action\" with your desired action text\n",
    "    text_width, text_height = draw.textsize(text, font=font)\n",
    "    x = (padded_image.width - text_width) // 2\n",
    "    y = padded_image.height - padding - text_height * 2\n",
    "\n",
    "    # Overlay the text on the image\n",
    "    draw.text((x, y), text, fill=(255, 255, 255), font=font)\n",
    "\n",
    "    # Overlay the agent view on the image\n",
    "    if True:\n",
    "        partial_view_rgb = maze_to_rgb(s)\n",
    "        partial_view_size = max_width // 6\n",
    "\n",
    "        partial_height, partial_width = partial_view_rgb.shape[:2]\n",
    "        ratio = partial_view_size // partial_width\n",
    "        partial_height, partial_width = ratio * partial_height, ratio * partial_width\n",
    "\n",
    "        small_map_x = padded_image.width - (partial_width // 2) - padding\n",
    "        small_map_y = padded_image.height - (partial_height // 2) - padding\n",
    "\n",
    "        p_img = Image.fromarray(partial_view_rgb).resize((partial_height, partial_width),\n",
    "                                                         resample=Image.NEAREST)\n",
    "        # Add a border around the partial view image\n",
    "        border_color = (255, 255, 255)\n",
    "        border_thickness = 5\n",
    "        p_img = ImageOps.expand(p_img, border=border_thickness, fill=border_color)\n",
    "        padded_image.paste(p_img, (small_map_x, small_map_y))\n",
    "\n",
    "    return padded_image"
   ]
  },
  {
   "cell_type": "code",
   "execution_count": 4,
   "metadata": {},
   "outputs": [],
   "source": [
    "def embed(self, inp):\n",
    "    s, a, r = inp.states, inp.actions, inp.rewards\n",
    "    assert s is not None, 'states must be provided'\n",
    "    b, t, p, q = s.shape\n",
    "\n",
    "    # embed tokens\n",
    "    s = s.long()\n",
    "    s = rearrange(s, 'b t x y -> b t (x y)')\n",
    "    s = self.tok_embd(s)\n",
    "    s = rearrange(s, 'b t (x y) d -> (b t) d x y', x=p, y=q)\n",
    "    s = self.impala(s)\n",
    "    s = rearrange(s, '(b t) d -> b t d', b=b)\n",
    "\n",
    "    tokens = {'s': s}\n",
    "    if 'a' in self.condition_on and a is not None:\n",
    "        tokens['a'] = self.action_embd(a.long())\n",
    "    if 'r' in self.condition_on and r is not None:\n",
    "        r = rearrange(r, 'b ... -> b ... 1')\n",
    "        tokens['r'] = self.reward_embd(r.float())\n",
    "\n",
    "    if t == 1:\n",
    "        # in the case of a single step, we need to modify the order of the tokens to match the order of the\n",
    "        # environment outputs.\n",
    "        rotated_cond = self.condition_on\n",
    "        if rotated_cond == 'sa':\n",
    "            rotated_cond = 'as'\n",
    "        elif rotated_cond == 'sar':\n",
    "            rotated_cond = 'ars'\n",
    "        elif rotated_cond == 'rsa':\n",
    "            rotated_cond = 'rsa'\n",
    "        keys, x = zip(*[(k, tokens[k]) for k in rotated_cond if k in tokens])\n",
    "        x = torch.cat(x, dim=1)\n",
    "    else:\n",
    "        keys, x = zip(*[(k, tokens[k]) for k in self.condition_on if k in tokens])\n",
    "        # interleave tokens into a sequence\n",
    "        x = torch.stack(x, dim=2).view(b, t * len(x), self.hidden_dim)\n",
    "    head_position = keys.index('s')\n",
    "    return x, head_position"
   ]
  },
  {
   "cell_type": "markdown",
   "metadata": {},
   "source": [
    "## Setup Config and Necessary Components"
   ]
  },
  {
   "cell_type": "code",
   "execution_count": 5,
   "metadata": {},
   "outputs": [],
   "source": [
    "from hydra import initialize, compose\n",
    "from omegaconf import OmegaConf\n",
    "\n",
    "hydra.core.global_hydra.GlobalHydra.instance().clear()\n",
    "\n",
    "with initialize(version_base=None, config_path=\"../configs/\"):\n",
    "    cfg = compose(config_name='config.yaml', overrides=[experiment])\n",
    "\n",
    "pcfg = cfg.trainer.agent.policy\n",
    "rcfg = pcfg.rnn\n",
    "ecfg = cfg.trainer.env"
   ]
  },
  {
   "cell_type": "markdown",
   "metadata": {},
   "source": [
    "### Construct Network from Config"
   ]
  },
  {
   "cell_type": "code",
   "execution_count": 6,
   "metadata": {},
   "outputs": [],
   "source": [
    "rnn = HookedTransformerStateEncoder(rcfg.n_layers, rcfg.d_model, rcfg.d_head, rcfg.n_heads,\n",
    "                                    rcfg.d_mlp, rcfg.act_fn, rcfg.n_ctx, rcfg.mode)\n",
    "policy = ImpalaPolicyNet(pcfg.in_dim, pcfg.embd_vocab_size, pcfg.embd_dim, pcfg.hidden_dim,\n",
    "               pcfg.scale, pcfg.out_dim, pcfg.condition_on, rnn)\n",
    "policy = policy.eval()"
   ]
  },
  {
   "cell_type": "markdown",
   "metadata": {},
   "source": [
    "### Load Model Weights"
   ]
  },
  {
   "cell_type": "code",
   "execution_count": 7,
   "metadata": {},
   "outputs": [
    {
     "data": {
      "text/plain": [
       "<All keys matched successfully>"
      ]
     },
     "execution_count": 7,
     "metadata": {},
     "output_type": "execute_result"
    }
   ],
   "source": [
    "state_dict = torch.load(model_path, map_location='cpu')\n",
    "policy.load_state_dict(state_dict['policy'])"
   ]
  },
  {
   "cell_type": "markdown",
   "metadata": {},
   "source": [
    "### Construct Environment"
   ]
  },
  {
   "cell_type": "code",
   "execution_count": 8,
   "metadata": {},
   "outputs": [],
   "source": [
    "env = AJ3MazeEnv(ecfg.static_env, ecfg.static_episode, ecfg.difficulty, ecfg.reward_type, cfg.seed, ecfg.visible_radius, ecfg.num_objects, ecfg.size, ecfg.max_steps)\n",
    "state, info = env.reset()"
   ]
  },
  {
   "cell_type": "markdown",
   "metadata": {},
   "source": [
    "## Start Interpreting!"
   ]
  },
  {
   "cell_type": "markdown",
   "metadata": {},
   "source": [
    "### Utility Functions"
   ]
  },
  {
   "cell_type": "code",
   "execution_count": 9,
   "metadata": {},
   "outputs": [],
   "source": [
    "def construct_episode(_policy, _env, deterministic=True, seed=None):\n",
    "    _policy.eval()\n",
    "    state, info = _env.reset(episode_seed=seed)\n",
    "    past_kv_cache = _policy.rnn.initialize_hidden(1)\n",
    "    exp = ExperienceDict(prev_dones=[True], prev_hiddens=past_kv_cache, states=torch.tensor(state[None, None]), infos=info)\n",
    "    done = False\n",
    "    episode = []\n",
    "    while not done:\n",
    "        exp.prev_dones = torch.tensor(exp.prev_dones)\n",
    "        features, action_logits, hx = _policy(exp)\n",
    "        dist = Categorical(logits=action_logits)\n",
    "        if deterministic:\n",
    "            actions = dist.mode\n",
    "        else:\n",
    "            actions = dist.sample()\n",
    "        action = actions.squeeze()\n",
    "\n",
    "        next_states, rwds, success, truncated, next_infos = _env.step(action)\n",
    "        exp.actions = action.detach().clone()\n",
    "        exp.rewards = rwds\n",
    "        exp.success = success\n",
    "        done = success or truncated\n",
    "\n",
    "        episode.append(exp)\n",
    "\n",
    "        exp = ExperienceDict(prev_dones=[done],\n",
    "                                 prev_hiddens=hx,\n",
    "                                 states=torch.tensor(next_states[None, None]),\n",
    "                                 infos=next_infos,\n",
    "                                 actions=actions,\n",
    "                                 rewards=rwds,\n",
    "                                 truncated=None, success=None)\n",
    "\n",
    "\n",
    "    return episode\n",
    "        \n",
    "def show_episode_video(_episode, save_all=True, filename='tmp'):\n",
    "    os.makedirs(f\"imgs/{filename}/\", exist_ok=True)\n",
    "\n",
    "    animation_filename = f'imgs/{filename}/animation_{filename}.gif'\n",
    "    \n",
    "    frames = [grid_to_frame(e.infos['full_view'], e.states.squeeze(), e.infos['valid'], e.success, e.actions.item()) for e in _episode]\n",
    "    frames[0].save(animation_filename, format=\"GIF\", append_images=frames,\n",
    "                   save_all=True, duration=1000, loop=0)\n",
    "\n",
    "    if save_all:\n",
    "        for i, frame in enumerate(frames):\n",
    "            frame.save(f\"imgs/{filename}/{i}.png\")\n",
    "    return animation_filename\n",
    "\n",
    "def set_seed_everywhere(seed: int):\n",
    "    torch.manual_seed(seed)\n",
    "    random.seed(seed)\n",
    "    np.random.seed(seed)\n",
    "\n",
    "def cat_episode(_episode):\n",
    "    exp = ExperienceDict(prev_dones=[], states=[], actions=[], rewards=[])\n",
    "    for frame in _episode:\n",
    "        exp.prev_dones.append(frame.prev_dones)\n",
    "        exp.states.append(frame.states)\n",
    "        exp.actions.append(frame.actions)\n",
    "        exp.rewards.append(frame.rewards)\n",
    "    exp.prev_dones = torch.tensor(exp.prev_dones)\n",
    "    exp.states = torch.cat(exp.states, dim=1)\n",
    "    exp.actions = torch.tensor(exp.actions)\n",
    "    exp.rewards = torch.tensor(exp.rewards)\n",
    "    return exp"
   ]
  },
  {
   "cell_type": "markdown",
   "metadata": {},
   "source": [
    "### Construct Episode Sequence to Hook"
   ]
  },
  {
   "cell_type": "code",
   "execution_count": 10,
   "metadata": {},
   "outputs": [
    {
     "name": "stdout",
     "output_type": "stream",
     "text": [
      "Episode of Length 9. Observations are of shape 5x5\n"
     ]
    },
    {
     "data": {
      "image/png": "[encoded data removed]",
      "text/plain": [
       "<IPython.core.display.Image object>"
      ]
     },
     "metadata": {},
     "output_type": "display_data"
    }
   ],
   "source": [
    "# Construct Episode\n",
    "seed = 4\n",
    "set_seed_everywhere(seed)\n",
    "episode = construct_episode(policy, env, deterministic=True, seed=seed)\n",
    "shape = episode[0].states.shape\n",
    "print(f\"Episode of Length {len(episode)}. Observations are of shape {shape[2]}x{shape[3]}\")\n",
    "# show as video\n",
    "gif_filename = show_episode_video(episode, filename=f\"{seed}\")\n",
    "display(IPython.display.Image(filename=gif_filename, format='png'))"
   ]
  },
  {
   "cell_type": "code",
   "execution_count": 11,
   "metadata": {},
   "outputs": [],
   "source": [
    "episode = cat_episode(episode)\n",
    "x, head_pos = embed(policy, episode)\n",
    "logits, cache = policy.rnn.gpt.run_with_cache(x)"
   ]
  },
  {
   "cell_type": "code",
   "execution_count": 12,
   "metadata": {},
   "outputs": [
    {
     "name": "stdout",
     "output_type": "stream",
     "text": [
      "Layer 1 Head Attention Patterns:\n"
     ]
    },
    {
     "data": {
      "text/html": [
       "<div id=\"circuits-vis-7c1bb4ae-e58d\" style=\"margin: 15px 0;\"/>\n",
       "    <script crossorigin type=\"module\">\n",
       "    import { render, AttentionPatterns } from \"https://unpkg.com/circuitsvis@1.40.0/dist/cdn/esm.js\";\n",
       "    render(\n",
       "      \"circuits-vis-7c1bb4ae-e58d\",\n",
       "      AttentionPatterns,\n",
       "      {\"tokens\": [\"0-UP\", \"1-UP\", \"2-LEFT\", \"3-LEFT\", \"4-LEFT\", \"5-LEFT\", \"6-LEFT\", \"7-LEFT\", \"8-LEFT\"], \"attention\": [[[1.0, 0.0, 0.0, 0.0, 0.0, 0.0, 0.0, 0.0, 0.0], [0.9978692531585693, 0.002130694454535842, 0.0, 0.0, 0.0, 0.0, 0.0, 0.0, 0.0], [0.9721869230270386, 0.026647385209798813, 0.0011656283168122172, 0.0, 0.0, 0.0, 0.0, 0.0, 0.0], [0.9855420589447021, 0.014045110903680325, 0.00020666328782681376, 0.00020622739975806326, 0.0, 0.0, 0.0, 0.0, 0.0], [0.9620346426963806, 0.03683646023273468, 0.0005944729200564325, 0.00024655129527673125, 0.00028789794305339456, 0.0, 0.0, 0.0, 0.0], [0.9347936511039734, 0.062277715653181076, 0.0014042867114767432, 0.00044124128180556, 0.0005617559072561562, 0.0005212805699557066, 0.0, 0.0, 0.0], [0.8463893532752991, 0.14537544548511505, 0.0045796167105436325, 0.0006784244906157255, 0.0009200923377647996, 0.0010422503110021353, 0.0010148625588044524, 0.0, 0.0], [5.767104838128034e-08, 1.5159292487965104e-08, 1.3014218591678173e-09, 9.919440269179347e-11, 1.7352538850268218e-10, 6.438795607799364e-10, 7.903092402727907e-09, 0.9999998807907104, 0.0], [9.925999577831135e-09, 3.9789078698504454e-09, 3.209457977160213e-10, 1.778847902311753e-11, 3.313281246586364e-11, 1.3737412596359633e-10, 2.125421838528041e-09, 0.1204807460308075, 0.8795192241668701]], [[1.0, 0.0, 0.0, 0.0, 0.0, 0.0, 0.0, 0.0, 0.0], [0.9707033634185791, 0.029296645894646645, 0.0, 0.0, 0.0, 0.0, 0.0, 0.0, 0.0], [0.6896672248840332, 0.18091343343257904, 0.12941932678222656, 0.0, 0.0, 0.0, 0.0, 0.0, 0.0], [0.8287349939346313, 0.03102816455066204, 0.10009564459323883, 0.040141116827726364, 0.0, 0.0, 0.0, 0.0, 0.0], [0.780211865901947, 0.029310673475265503, 0.09608109295368195, 0.07351014763116837, 0.02088620327413082, 0.0, 0.0, 0.0, 0.0], [0.7904694676399231, 0.018981626257300377, 0.05892067402601242, 0.08473160862922668, 0.029647212475538254, 0.01724935509264469, 0.0, 0.0, 0.0], [0.8056349158287048, 0.013590862974524498, 0.035059552639722824, 0.08345534652471542, 0.030826114118099213, 0.018247555941343307, 0.01318572461605072, 0.0, 0.0], [0.0007147241267375648, 1.8585265934234485e-05, 2.9097304832248483e-07, 1.3624658379285393e-07, 7.546020697191125e-09, 2.3174886454313537e-09, 6.440283861763874e-10, 0.9992662072181702, 0.0], [8.679594611749053e-05, 2.708923375394079e-06, 1.436343044503019e-08, 7.297994208954606e-09, 3.980872020914461e-10, 1.180164577174736e-10, 2.7163955113040927e-11, 0.07024940103292465, 0.9296611547470093]], [[1.0, 0.0, 0.0, 0.0, 0.0, 0.0, 0.0, 0.0, 0.0], [0.9999407529830933, 5.9288042393745854e-05, 0.0, 0.0, 0.0, 0.0, 0.0, 0.0, 0.0], [0.00032104243291541934, 7.511583589803195e-06, 0.999671459197998, 0.0, 0.0, 0.0, 0.0, 0.0, 0.0], [6.431042129406705e-05, 4.7475410269726126e-07, 0.21060200035572052, 0.7893332242965698, 0.0, 0.0, 0.0, 0.0, 0.0], [1.6590676068517496e-06, 2.1387304371955906e-08, 0.016998697072267532, 0.23725521564483643, 0.7457444071769714, 0.0, 0.0, 0.0, 0.0], [2.069923255021422e-07, 1.2201778476494951e-09, 0.004479724448174238, 0.18059809505939484, 0.6362074613571167, 0.17871446907520294, 0.0, 0.0, 0.0], [6.034851907088523e-08, 2.1473255118475976e-10, 0.002150103682652116, 0.18051500618457794, 0.6528041958808899, 0.14749597012996674, 0.017034702003002167, 0.0, 0.0], [2.7066627808380872e-05, 5.078444473838317e-07, 0.056000228971242905, 0.31371504068374634, 0.5738493204116821, 0.054319120943546295, 0.0020887304563075304, 5.3643457731400446e-11, 0.0], [0.0003723829868249595, 4.88682599097956e-06, 0.197487935423851, 0.33587104082107544, 0.4209176301956177, 0.04324470832943916, 0.0021013880614191294, 5.51989953745391e-10, 2.3868431675566626e-09]], [[1.0, 0.0, 0.0, 0.0, 0.0, 0.0, 0.0, 0.0, 0.0], [0.99868243932724, 0.001317609683610499, 0.0, 0.0, 0.0, 0.0, 0.0, 0.0, 0.0], [0.9959896206855774, 0.003904404118657112, 0.00010604295675875619, 0.0, 0.0, 0.0, 0.0, 0.0, 0.0], [0.9993523955345154, 0.0006200387142598629, 1.790364876796957e-05, 9.701201634015888e-06, 0.0, 0.0, 0.0, 0.0, 0.0], [0.9959277510643005, 0.0033811554312705994, 0.00010420443868497387, 0.00018161586194764823, 0.00040522663039155304, 0.0, 0.0, 0.0, 0.0], [0.9843881130218506, 0.008139601908624172, 0.00041268515633419156, 0.0015008671907708049, 0.002304743742570281, 0.0032539237290620804, 0.0, 0.0, 0.0], [0.8938053250312805, 0.016441354528069496, 0.003485435387119651, 0.020717505365610123, 0.021295851096510887, 0.02481774613261223, 0.019436808302998543, 0.0, 0.0], [4.266790913642904e-13, 1.6051655887526532e-18, 8.925720854766517e-17, 4.3054188659062496e-20, 1.9213505699137375e-19, 8.382179936590524e-19, 8.681785292124629e-17, 1.0, 0.0], [4.962330324214878e-14, 2.888774743940244e-19, 1.2714701556212833e-17, 2.854365225992517e-21, 1.842966805821242e-20, 8.603517183391405e-20, 9.277467498853871e-18, 0.026143766939640045, 0.9738562703132629]], [[1.0, 0.0, 0.0, 0.0, 0.0, 0.0, 0.0, 0.0, 0.0], [0.7525537014007568, 0.24744626879692078, 0.0, 0.0, 0.0, 0.0, 0.0, 0.0, 0.0], [0.0011856222990900278, 0.00035495610791258514, 0.9984594583511353, 0.0, 0.0, 0.0, 0.0, 0.0, 0.0], [7.9592473412049e-06, 1.8297095039088163e-07, 0.6156613230705261, 0.38433051109313965, 0.0, 0.0, 0.0, 0.0, 0.0], [2.3300219709199155e-06, 4.00321695792627e-08, 0.3591156005859375, 0.5246403813362122, 0.11624167114496231, 0.0, 0.0, 0.0, 0.0], [1.0451004754941096e-06, 9.194261352263311e-09, 0.22835800051689148, 0.5910796523094177, 0.11883063614368439, 0.06173066049814224, 0.0, 0.0, 0.0], [3.064601514779497e-06, 5.109895173660561e-09, 0.18068039417266846, 0.5988094806671143, 0.13040858507156372, 0.0670400932431221, 0.02305833250284195, 0.0, 0.0], [1.1540023479028605e-06, 1.6628974863763801e-09, 2.7886326847692544e-07, 1.3507025720116417e-08, 1.596755438981745e-08, 2.0089473196094332e-08, 1.2744918365115154e-07, 0.9999983310699463, 0.0], [3.318078825031989e-07, 5.450560003339433e-10, 8.460567357815307e-09, 1.9443618937131646e-10, 3.6737393682706454e-10, 5.676644154739563e-10, 6.54395737598179e-09, 0.07222942262887955, 0.92777019739151]], [[1.0, 0.0, 0.0, 0.0, 0.0, 0.0, 0.0, 0.0, 0.0], [0.9896418452262878, 0.010358191095292568, 0.0, 0.0, 0.0, 0.0, 0.0, 0.0, 0.0], [0.9678154587745667, 0.018253013491630554, 0.01393159106373787, 0.0, 0.0, 0.0, 0.0, 0.0, 0.0], [0.9972423315048218, 0.0011299523757770658, 0.001351115177385509, 0.0002766471297945827, 0.0, 0.0, 0.0, 0.0, 0.0], [0.9845718145370483, 0.004094162955880165, 0.008867689408361912, 0.0015397437382489443, 0.0009266067063435912, 0.0, 0.0, 0.0, 0.0], [0.9853600859642029, 0.0020915959030389786, 0.008042358793318272, 0.001655622269026935, 0.0010295710526406765, 0.0018207227112725377, 0.0, 0.0, 0.0], [0.892178475856781, 0.006794349290430546, 0.029988227412104607, 0.006224329583346844, 0.004680472891777754, 0.01016515027731657, 0.049968916922807693, 0.0, 0.0], [0.8500120043754578, 5.121373033034615e-05, 1.815527502913028e-05, 3.161222048220225e-05, 2.75917391263647e-05, 2.1675250536645763e-05, 4.198303940938786e-05, 0.14979584515094757, 0.0], [0.8252085447311401, 2.8311435016803443e-05, 7.59763543101144e-06, 2.1984655177220702e-05, 2.1812113118357956e-05, 1.5712606909801252e-05, 2.679197677935008e-05, 0.03096086159348488, 0.14370839297771454]], [[1.0, 0.0, 0.0, 0.0, 0.0, 0.0, 0.0, 0.0, 0.0], [0.7283831238746643, 0.2716168165206909, 0.0, 0.0, 0.0, 0.0, 0.0, 0.0, 0.0], [0.19872084259986877, 0.02040385827422142, 0.7808752655982971, 0.0, 0.0, 0.0, 0.0, 0.0, 0.0], [0.095196433365345, 0.014749436639249325, 0.6740925908088684, 0.2159614861011505, 0.0, 0.0, 0.0, 0.0, 0.0], [0.009367018938064575, 0.0016771102091297507, 0.16230174899101257, 0.3618077337741852, 0.46484634280204773, 0.0, 0.0, 0.0, 0.0], [0.0017988109029829502, 0.0002819943765643984, 0.037763550877571106, 0.3104795217514038, 0.3803364634513855, 0.2693396806716919, 0.0, 0.0, 0.0], [0.00042232833220623434, 0.00012967735528945923, 0.018517233431339264, 0.26951634883880615, 0.3708755373954773, 0.2302737832069397, 0.1102651059627533, 0.0, 0.0], [0.010735218413174152, 0.0003054258704651147, 0.006927040871232748, 0.0016349118668586016, 0.0022726966999471188, 0.0017286887159571052, 0.0028699603863060474, 0.9735260009765625, 0.0], [0.004176916554570198, 0.00012112304102629423, 0.0014923958806321025, 8.193383837351575e-05, 0.00012448425695765764, 0.00010233889770461246, 0.00022644999262411147, 0.16964201629161835, 0.8240323662757874]], [[1.0, 0.0, 0.0, 0.0, 0.0, 0.0, 0.0, 0.0, 0.0], [0.9999935626983643, 6.4400451265100855e-06, 0.0, 0.0, 0.0, 0.0, 0.0, 0.0, 0.0], [0.9986454844474792, 0.0008864487754181027, 0.00046803828445263207, 0.0, 0.0, 0.0, 0.0, 0.0, 0.0], [0.1617686003446579, 0.0006375368684530258, 0.026968132704496384, 0.8106257319450378, 0.0, 0.0, 0.0, 0.0, 0.0], [0.05643486976623535, 0.0003781998821068555, 0.0315685048699379, 0.6684582233428955, 0.2431601583957672, 0.0, 0.0, 0.0, 0.0], [0.032653722912073135, 0.00020555636729113758, 0.02839089371263981, 0.6189788579940796, 0.22760853171348572, 0.0921623557806015, 0.0, 0.0, 0.0], [0.05571598932147026, 0.00010423642379464582, 0.037344034761190414, 0.6248745918273926, 0.18084754049777985, 0.06744678318500519, 0.03366689383983612, 0.0, 0.0], [0.19144225120544434, 4.234017978888005e-06, 0.0001080565998563543, 0.02082942984998226, 0.007007051724940538, 0.0020279153250157833, 0.0005010723252780735, 0.7780799865722656, 0.0], [0.8561173677444458, 9.123751624429133e-06, 2.7130434318678454e-05, 0.006789180915802717, 0.003032904816791415, 0.0011690743267536163, 0.0003435461549088359, 0.08046156167984009, 0.052050165832042694]]]}\n",
       "    )\n",
       "    </script>"
      ],
      "text/plain": [
       "<circuitsvis.utils.render.RenderedHTML at 0x108510910>"
      ]
     },
     "execution_count": 12,
     "metadata": {},
     "output_type": "execute_result"
    }
   ],
   "source": [
    "#print((gpt_cache.keys()))\n",
    "layer = 1\n",
    "attention_pattern = cache[\"pattern\", layer, \"attn\"].squeeze()\n",
    "actions = [f'{i}-{action_map[a.item()]}' for i, a in enumerate(episode.actions)]\n",
    "print(f\"Layer {layer} Head Attention Patterns:\")\n",
    "cv.attention.attention_patterns(attention=attention_pattern, tokens=actions)"
   ]
  },
  {
   "cell_type": "code",
   "execution_count": 13,
   "metadata": {},
   "outputs": [
    {
     "name": "stdout",
     "output_type": "stream",
     "text": [
      "0: tensor([0.0149, 0.1223, 0.0122, 0.8505])\n",
      "1: tensor([0.0072, 0.0723, 0.0212, 0.8993])\n",
      "2: tensor([0.0184, 0.7083, 0.0441, 0.2292])\n",
      "3: tensor([0.0662, 0.7094, 0.0375, 0.1869])\n",
      "4: tensor([0.0398, 0.7282, 0.0321, 0.1999])\n",
      "5: tensor([0.0296, 0.7602, 0.0299, 0.1803])\n",
      "6: tensor([0.0193, 0.7656, 0.0242, 0.1910])\n",
      "7: tensor([0.0321, 0.8795, 0.0371, 0.0514])\n",
      "8: tensor([0.0246, 0.8546, 0.0407, 0.0801])\n"
     ]
    }
   ],
   "source": [
    "act_probs = F.softmax(policy.action_head(logits.squeeze()), dim=-1)\n",
    "for i in range(act_probs.shape[0]):\n",
    "    print(f\"{i}: {act_probs[i]}\")"
   ]
  },
  {
   "cell_type": "markdown",
   "metadata": {},
   "source": [
    "## Probing Board State Prediction"
   ]
  },
  {
   "cell_type": "code",
   "execution_count": 54,
   "metadata": {
    "scrolled": true
   },
   "outputs": [],
   "source": [
    "seeds = list(range(1000))\n",
    "probe_episodes = [cat_episode(construct_episode(policy, env, deterministic=True, seed=seed)) for seed in seeds]"
   ]
  },
  {
   "cell_type": "code",
   "execution_count": 75,
   "metadata": {},
   "outputs": [],
   "source": [
    "with torch.no_grad():\n",
    "    original_states = [e.states[:, j] for e in probe_episodes for j in range(e.states.shape[1] - 1)]\n",
    "    probe_logits = [(embed(policy, e)[0])[:, :-1] for e in probe_episodes]\n",
    "    next_states = [e.states[:, j+1] for e in probe_episodes for j in range(e.states.shape[1] - 1)]\n",
    "    X = torch.cat(probe_logits, dim=1).squeeze()\n",
    "    Y = torch.cat(next_states, dim=0).flatten(1).long()\n",
    "    O = torch.cat(original_states, dim=0).flatten(1).long()"
   ]
  },
  {
   "cell_type": "code",
   "execution_count": 97,
   "metadata": {},
   "outputs": [],
   "source": [
    "def train(_x, _y, _model, epochs=250):\n",
    "    shuffled_idxs = torch.randperm(_x.shape[0])\n",
    "    _x = _x.clone()[shuffled_idxs]\n",
    "    _y = _y.clone()[shuffled_idxs]\n",
    "    # Define the loss function and optimizer\n",
    "    criterion = nn.CrossEntropyLoss()\n",
    "    optimizer = torch.optim.SGD(_model.parameters(), lr=1e-3)\n",
    "    \n",
    "    for epoch in range(epochs):\n",
    "        # Forward pass\n",
    "        outputs = F.softmax(_model(_x))\n",
    "        loss = criterion(outputs, _y)\n",
    "    \n",
    "        # Backward and optimize\n",
    "        optimizer.zero_grad()\n",
    "        loss.backward()\n",
    "        optimizer.step()\n",
    "    \n",
    "    return loss\n"
   ]
  },
  {
   "cell_type": "code",
   "execution_count": 98,
   "metadata": {
    "scrolled": true
   },
   "outputs": [],
   "source": [
    "from copy import deepcopy\n",
    "train_len = int(X.shape[0] * 0.8)\n",
    "X_train, X_test = X[:train_len], X[train_len:]\n",
    "y_train, y_test = Y[:train_len], Y[train_len:]\n",
    "O_train, O_test = O[:train_len], O[train_len:]\n",
    "\n",
    "d_model = cfg.trainer.agent.policy.rnn.d_model\n",
    "d_out = 4\n",
    "\n",
    "construct_model = lambda: (Sequential(Linear(d_model, d_out)))\n",
    "                                     \n",
    "linear_models = [deepcopy(construct_model()) for _ in range(y_train.shape[1])]\n"
   ]
  },
  {
   "cell_type": "code",
   "execution_count": 99,
   "metadata": {
    "scrolled": true
   },
   "outputs": [
    {
     "name": "stdout",
     "output_type": "stream",
     "text": [
      "Feature 0 loss: 0.972345232963562\n",
      "Feature 1 loss: 1.056032657623291\n",
      "Feature 2 loss: 1.0501532554626465\n",
      "Feature 3 loss: 1.1234545707702637\n",
      "Feature 4 loss: 0.9420964121818542\n",
      "Feature 5 loss: 0.9731864929199219\n",
      "Feature 6 loss: 0.9787797927856445\n",
      "Feature 7 loss: 1.1351566314697266\n",
      "Feature 8 loss: 0.9077548384666443\n",
      "Feature 9 loss: 0.9863400459289551\n",
      "Feature 10 loss: 1.0627816915512085\n",
      "Feature 11 loss: 1.030538558959961\n",
      "Feature 12 loss: 0.747816264629364\n",
      "Feature 13 loss: 1.071760654449463\n",
      "Feature 14 loss: 1.0167750120162964\n",
      "Feature 15 loss: 1.060329794883728\n",
      "Feature 16 loss: 1.02262282371521\n",
      "Feature 17 loss: 1.0963419675827026\n",
      "Feature 18 loss: 0.9615134000778198\n",
      "Feature 19 loss: 0.9843249320983887\n",
      "Feature 20 loss: 0.9696174263954163\n",
      "Feature 21 loss: 1.0704996585845947\n",
      "Feature 22 loss: 1.015986442565918\n",
      "Feature 23 loss: 1.1606616973876953\n",
      "Feature 24 loss: 0.9997474551200867\n"
     ]
    }
   ],
   "source": [
    "torch.set_grad_enabled(True)\n",
    "\n",
    "for i, linear_model in enumerate(linear_models):\n",
    "    loss = train(X_train, y_train[:, i], linear_model, epochs=200)\n",
    "    print(f\"Feature {i} loss: {loss}\")"
   ]
  },
  {
   "cell_type": "code",
   "execution_count": 100,
   "metadata": {},
   "outputs": [
    {
     "data": {
      "image/png": "[encoded data removed]",
      "text/plain": [
       "<PIL.Image.Image image mode=RGB size=1520x500>"
      ]
     },
     "execution_count": 100,
     "metadata": {},
     "output_type": "execute_result"
    }
   ],
   "source": [
    "i = 26\n",
    "original_state = plot_maze(O_test[i].reshape(5, 5))\n",
    "predicted_next_state = plot_maze(torch.tensor([lm(X_test[i]).argmax() for lm in linear_models]).reshape(5, 5))\n",
    "real_next_state = plot_maze(y_test[i].reshape(5, 5))\n",
    "\n",
    "cat_imgs_horizontally([original_state, real_next_state, predicted_next_state])"
   ]
  },
  {
   "cell_type": "code",
   "execution_count": 96,
   "metadata": {},
   "outputs": [
    {
     "data": {
      "text/plain": [
       "tensor([[11.1855,  8.2530, 10.4854,  ...,  0.0000,  0.0000,  0.0000],\n",
       "        [11.1855,  8.2530, 10.4854,  ...,  0.0000,  0.0000,  0.0000],\n",
       "        [ 4.2949, 13.5762,  0.0000,  ...,  0.0000,  0.0000,  0.0000],\n",
       "        ...,\n",
       "        [ 0.1564,  0.0000,  7.6908,  ...,  0.0000,  0.0000,  0.0000],\n",
       "        [ 1.5862, 10.8999,  1.4163,  ...,  0.0000,  0.0000,  0.0000],\n",
       "        [ 3.8779,  8.5464,  0.0000,  ...,  0.0000,  0.0000,  0.0000]])"
      ]
     },
     "execution_count": 96,
     "metadata": {},
     "output_type": "execute_result"
    }
   ],
   "source": [
    "shuffled_idxs = torch.randperm(X_train.shape[0])\n",
    "X_train.clone()[shuffled_idxs]"
   ]
  },
  {
   "cell_type": "code",
   "execution_count": 95,
   "metadata": {},
   "outputs": [
    {
     "data": {
      "text/plain": [
       "tensor([ 7870, 11805,  2601,  ...,   389,   549,  1789])"
      ]
     },
     "execution_count": 95,
     "metadata": {},
     "output_type": "execute_result"
    }
   ],
   "source": []
  },
  {
   "cell_type": "code",
   "execution_count": null,
   "metadata": {},
   "outputs": [],
   "source": []
  }
 ],
 "metadata": {
  "kernelspec": {
   "display_name": "Python 3 (ipykernel)",
   "language": "python",
   "name": "python3"
  },
  "language_info": {
   "codemirror_mode": {
    "name": "ipython",
    "version": 3
   },
   "file_extension": ".py",
   "mimetype": "text/x-python",
   "name": "python",
   "nbconvert_exporter": "python",
   "pygments_lexer": "ipython3",
   "version": "3.10.12"
  }
 },
 "nbformat": 4,
 "nbformat_minor": 4
}
