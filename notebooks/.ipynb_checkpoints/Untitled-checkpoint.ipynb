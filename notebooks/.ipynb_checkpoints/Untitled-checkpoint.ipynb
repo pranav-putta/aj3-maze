{
 "cells": [
  {
   "cell_type": "code",
   "execution_count": 4,
   "id": "dc4484ed",
   "metadata": {},
   "outputs": [],
   "source": [
    "import gym\n",
    "import os\n",
    "os.environ['MUJOCO_GL'] = 'glfw'"
   ]
  },
  {
   "cell_type": "code",
   "execution_count": 10,
   "id": "06064739",
   "metadata": {},
   "outputs": [],
   "source": [
    "env = gym.make('memory_maze:MemoryMaze-9x9-Top-v0')"
   ]
  },
  {
   "cell_type": "code",
   "execution_count": 11,
   "id": "620b4832",
   "metadata": {},
   "outputs": [
    {
     "data": {
      "text/plain": [
       "Box(0, 255, (256, 256, 3), uint8)"
      ]
     },
     "execution_count": 11,
     "metadata": {},
     "output_type": "execute_result"
    }
   ],
   "source": [
    "env.observation_space"
   ]
  },
  {
   "cell_type": "code",
   "execution_count": null,
   "id": "7842fbb6",
   "metadata": {},
   "outputs": [],
   "source": []
  }
 ],
 "metadata": {
  "kernelspec": {
   "display_name": "Python 3 (ipykernel)",
   "language": "python",
   "name": "python3"
  },
  "language_info": {
   "codemirror_mode": {
    "name": "ipython",
    "version": 3
   },
   "file_extension": ".py",
   "mimetype": "text/x-python",
   "name": "python",
   "nbconvert_exporter": "python",
   "pygments_lexer": "ipython3",
   "version": "3.11.4"
  }
 },
 "nbformat": 4,
 "nbformat_minor": 5
}
